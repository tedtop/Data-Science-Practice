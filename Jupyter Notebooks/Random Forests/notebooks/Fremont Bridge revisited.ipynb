{
 "cells": [
  {
   "cell_type": "code",
   "execution_count": null,
   "id": "8f6d4ab3",
   "metadata": {},
   "outputs": [],
   "source": [
    "import pandas as pd\n",
    "import numpy as np\n",
    "import matplotlib.pyplot as plt"
   ]
  },
  {
   "cell_type": "markdown",
   "id": "a3149d37",
   "metadata": {},
   "source": [
    "# Random Forest vs Linear Regression"
   ]
  },
  {
   "cell_type": "code",
   "execution_count": null,
   "id": "b3f0b03d",
   "metadata": {},
   "outputs": [],
   "source": [
    "# load  traffic, weather, and air quality index datasets\n",
    "fremont = pd.read_csv('Fremont_Bridge_Bicycle_Counter.csv',index_col='Date',parse_dates=True).resample('d').sum()\n",
    "weather = pd.read_csv('Seattle_weather.csv',index_col='DATE',parse_dates=True)\n",
    "aqi = pd.read_csv('Seattle_air_quality_index.csv',index_col='Date',parse_dates=True)\n",
    "\n",
    "# add day of the week/month/year/covid columns\n",
    "fremont['day_of_week'] = fremont.index.dayofweek\n",
    "fremont['month'] = fremont.index.month\n",
    "fremont['year'] = fremont.index.year\n",
    "fremont['covid'] = 0\n",
    "fremont.loc['03-01-2020':,'covid'] = 1\n",
    "\n",
    "# add holidays column\n",
    "from pandas.tseries.holiday import USFederalHolidayCalendar\n",
    "calendar = USFederalHolidayCalendar()\n",
    "holidays = calendar.holidays('01-01-2013','09-30-2022')\n",
    "fremont['holidays'] = pd.Series(1,index=holidays,name='holidays')\n",
    "fremont.fillna(0,inplace=True)\n",
    "\n",
    "# add hours of daylight column\n",
    "def get_hoursdaylight(date):\n",
    "    axis = np.radians(23.44) # tilt of Earth's axis\n",
    "    latitude = np.radians(47.61) # Seattle's latidude \n",
    "    days = (date-pd.to_datetime('2000-12-31')).days\n",
    "    m = (1 - np.tan(latitude)*np.tan(axis*np.cos(days*2*np.pi/365.25)))\n",
    "    return 24*np.degrees(np.arccos(1-m))/180\n",
    "fremont['hours_daylight'] = fremont.index.map(get_hoursdaylight)\n",
    "\n",
    "# fix TAVG column\n",
    "weather.TAVG.fillna(0.5*(weather.TMAX+weather.TMIN),inplace=True)\n",
    "\n",
    "# join weather and traffic datasets\n",
    "fremont = fremont.join(weather[['PRCP','TAVG','SNOW','AWND']]).loc['2013-01-01':]\n",
    "\n",
    "# add air quality index\n",
    "fremont['aqi'] = aqi\n",
    "\n",
    "# fix aqi missing values\n",
    "fremont.fillna(method='ffill',inplace=True)"
   ]
  },
  {
   "cell_type": "code",
   "execution_count": null,
   "id": "cf288d33",
   "metadata": {},
   "outputs": [],
   "source": [
    "# 2013-2020\n",
    "fremont2013_2020 = fremont[fremont.index.year<2021].copy()\n",
    "# 2020-2022\n",
    "fremont2021_2022 = fremont[fremont.index.year>=2021].copy()\n",
    "\n",
    "# target vector / feature matrix\n",
    "y2013_2020 = fremont2013_2020['Fremont Bridge Total']\n",
    "X2013_2020 = fremont2013_2020[['day_of_week','covid','holidays','hours_daylight','PRCP','TAVG','SNOW','AWND','year','aqi']]\n",
    "\n",
    "X2021_2022 = fremont2021_2022[['day_of_week','covid','holidays','hours_daylight','year','PRCP','TAVG','SNOW','AWND','aqi']]\n",
    "y2021_2022 = fremont2021_2022['Fremont Bridge Total']"
   ]
  },
  {
   "cell_type": "markdown",
   "id": "84f8fa15",
   "metadata": {},
   "source": [
    "## Linear Regression"
   ]
  },
  {
   "cell_type": "code",
   "execution_count": null,
   "id": "05ead54a",
   "metadata": {},
   "outputs": [],
   "source": [
    "from sklearn.linear_model import LinearRegression, Ridge, Lasso\n",
    "from sklearn.pipeline import Pipeline\n",
    "from sklearn.compose import ColumnTransformer\n",
    "from sklearn.impute import SimpleImputer\n",
    "from sklearn.preprocessing import OneHotEncoder, MinMaxScaler, PolynomialFeatures"
   ]
  },
  {
   "cell_type": "code",
   "execution_count": null,
   "id": "6b8aa3e7",
   "metadata": {},
   "outputs": [],
   "source": [
    "num_features = ['hours_daylight','PRCP','TAVG','SNOW','AWND','year','aqi']\n",
    "cat_features = ['day_of_week','covid','holidays']"
   ]
  },
  {
   "cell_type": "code",
   "execution_count": null,
   "id": "5083c08a",
   "metadata": {},
   "outputs": [],
   "source": [
    "feature_processor = ColumnTransformer(transformers=[\n",
    "    ('encoder',OneHotEncoder(handle_unknown='ignore'),cat_features),\n",
    "],remainder='passthrough')\n",
    "\n",
    "# regression pipeline\n",
    "pipe = Pipeline(steps=[\n",
    "    ('feature_processor',feature_processor),\n",
    "    ('scaler', MinMaxScaler()),\n",
    "    ('poly_features',PolynomialFeatures(degree=2)),\n",
    "    ('regressor',Ridge(alpha=1)) #  Rige, Lasso or LinearRegression\n",
    "])"
   ]
  },
  {
   "cell_type": "code",
   "execution_count": null,
   "id": "5e1c3b8a",
   "metadata": {},
   "outputs": [],
   "source": [
    "pipe.fit(X2013_2020,y2013_2020)\n",
    "fremont2013_2020['predicted'] = pipe.predict(X2013_2020)"
   ]
  },
  {
   "cell_type": "code",
   "execution_count": null,
   "id": "07c13158",
   "metadata": {},
   "outputs": [],
   "source": [
    "fremont2013_2020.plot.scatter(x='Fremont Bridge Total',y='predicted')\n",
    "plt.plot([0,6000],[0,6000],'r--')\n",
    "plt.title('daily traffic, 2013-2020')"
   ]
  },
  {
   "cell_type": "markdown",
   "id": "ad98cf67",
   "metadata": {},
   "source": [
    "## Random Forest"
   ]
  },
  {
   "cell_type": "code",
   "execution_count": null,
   "id": "b4c1b5da",
   "metadata": {},
   "outputs": [],
   "source": [
    "# random forest pipeline\n",
    "from sklearn.ensemble import RandomForestRegressor\n",
    "pipe = Pipeline(steps=[\n",
    "    ('feature_processor',feature_processor),\n",
    "    ('regressor',RandomForestRegressor())\n",
    "])"
   ]
  },
  {
   "cell_type": "code",
   "execution_count": null,
   "id": "91064379",
   "metadata": {},
   "outputs": [],
   "source": [
    "# Grid Search\n",
    "from sklearn.model_selection import GridSearchCV\n",
    "param_dic = {'regressor__n_estimators' :[10,50,100,200,500],\n",
    "             'regressor__max_depth':[2,5,10],\n",
    "             'regressor__max_leaf_nodes' : [None,2,4,8],  # None = unlimited\n",
    "             'regressor__min_samples_split' : [2,4,8,16,32], # default value = 2\n",
    "             'regressor__min_samples_leaf' : [1,2,4,8,16,32] # default value = 1\n",
    "            } \n",
    "grid = GridSearchCV(pipe, \n",
    "                    param_dic,\n",
    "                    cv=5,\n",
    "                    n_jobs=-1, \n",
    "                    scoring='neg_mean_squared_error',\n",
    "                    verbose=True)\n",
    "\n",
    "grid.fit(X2013_2020,y2013_2020)"
   ]
  },
  {
   "cell_type": "code",
   "execution_count": null,
   "id": "c5d93518",
   "metadata": {},
   "outputs": [],
   "source": [
    "# best random forest parameters\n",
    "grid.best_params_"
   ]
  },
  {
   "cell_type": "code",
   "execution_count": null,
   "id": "fb4aa361",
   "metadata": {},
   "outputs": [],
   "source": [
    "best_pipe = grid.best_estimator_\n",
    "fremont2013_2020['predicted_rf'] = best_pipe.predict(X2013_2020)\n",
    "fremont2021_2022['predicted_rf'] = best_pipe.predict(X2021_2022)"
   ]
  },
  {
   "cell_type": "code",
   "execution_count": null,
   "id": "8f85ca4b",
   "metadata": {},
   "outputs": [],
   "source": [
    "fremont2013_2020.plot.scatter(x='Fremont Bridge Total',y='predicted_rf')\n",
    "plt.plot([0,6000],[0,6000],'r--')"
   ]
  },
  {
   "cell_type": "code",
   "execution_count": null,
   "id": "2fea5b1c",
   "metadata": {},
   "outputs": [],
   "source": []
  }
 ],
 "metadata": {
  "kernelspec": {
   "display_name": "Python 3 (ipykernel)",
   "language": "python",
   "name": "python3"
  },
  "language_info": {
   "codemirror_mode": {
    "name": "ipython",
    "version": 3
   },
   "file_extension": ".py",
   "mimetype": "text/x-python",
   "name": "python",
   "nbconvert_exporter": "python",
   "pygments_lexer": "ipython3",
   "version": "3.9.12"
  }
 },
 "nbformat": 4,
 "nbformat_minor": 5
}
