{
 "cells": [
  {
   "cell_type": "code",
   "execution_count": 1,
   "metadata": {},
   "outputs": [],
   "source": [
    "import pandas as pd\n",
    "import numpy as np\n",
    "import matplotlib.pyplot as plt"
   ]
  },
  {
   "cell_type": "code",
   "execution_count": 2,
   "metadata": {},
   "outputs": [
    {
     "data": {
      "text/plain": [
       "'1.0.2'"
      ]
     },
     "execution_count": 2,
     "metadata": {},
     "output_type": "execute_result"
    }
   ],
   "source": [
    "import sklearn\n",
    "sklearn.__version__"
   ]
  },
  {
   "cell_type": "markdown",
   "metadata": {},
   "source": [
    "# Linear Regression"
   ]
  },
  {
   "cell_type": "markdown",
   "metadata": {},
   "source": [
    "With linear regression we aim to fit a line (or hyperplane in higher dimensions) to a dataset. \n",
    "Regression in general may be performed for a variety of reasons: \n",
    "\n",
    "- to produce a so-called trend line (or curve) that can be used to help visually summarize, drive home a particular point about the\n",
    "data under study, or\n",
    "- to learn a model so that precise predictions can be made regarding output values in the future"
   ]
  },
  {
   "cell_type": "markdown",
   "metadata": {},
   "source": [
    "## 1.  Linear Regression"
   ]
  },
  {
   "cell_type": "markdown",
   "metadata": {},
   "source": [
    "*Linear regression* attempts to model the relationship between two variables ($x$ and $y$) by fitting a linear equation $y = \\theta_1 x+\\theta_0$ to observed data."
   ]
  },
  {
   "cell_type": "code",
   "execution_count": null,
   "metadata": {},
   "outputs": [],
   "source": [
    "'This cell generates (and plots) a linear-looking dataset, based on the equation y=2x+1'\n",
    "\n",
    "# generate the dataset\n",
    "m = 50 # number of points\n",
    "x = -1 + 2*np.random.rand(m,1) # m random points over the interval [-1,1]\n",
    "y = 2*x+1+0.25*np.random.randn(m,1) # y = 2x+1 + small random noise\n",
    "\n",
    "# plot the dataset\n",
    "fig, ax = plt.subplots(figsize=(12,5)) # figure size\n",
    "ax.scatter(x,y, label='data points') # plot the data\n",
    "ax.set_xlabel('x',fontsize=20) # set x-axis label\n",
    "ax.set_ylabel('y',fontsize=20) # set y-axis label\n",
    "ax.set_title('A linear-looking dataset',fontsize=20) # set title\n",
    "ax.legend(fontsize=15) # plot legend"
   ]
  },
  {
   "cell_type": "markdown",
   "metadata": {},
   "source": [
    "The plot shows that the two variables $x$ and $y$ are roughly correlated: the larger $x$ is, the larger $y$ is.\n",
    "We can quantify this by attempting to fit a linear model\n",
    "\n",
    "$$\n",
    "y = \\theta_1 x+\\theta_0,\n",
    "$$\n",
    "\n",
    "where $\\theta_0$ is the bias (intercept) and $\\theta_1$ is the slope.\n",
    "\n",
    "In order to find a good linear model for our data, we need a measure of how well (or poorly) a model fits the data.\n",
    "The most common performance measure is the **Root Mean Squared Error** (MSE):\n",
    "\n",
    "$$\n",
    "\\mathrm{MSE} = \\sqrt{ \\frac{1}{m}\\sum_{i=1}^m\\left(y_i - (\\theta_1 x_i+\\theta_0) \\right)^2}\n",
    "$$\n"
   ]
  },
  {
   "cell_type": "code",
   "execution_count": null,
   "metadata": {},
   "outputs": [],
   "source": [
    "# import the linear regression model from the sci-kit learn library\n",
    "from sklearn.linear_model import LinearRegression\n",
    "# instantiate the model\n",
    "linreg = LinearRegression()\n",
    "# fit the linear regression model to the data\n",
    "linreg.fit(x,y)"
   ]
  },
  {
   "cell_type": "code",
   "execution_count": null,
   "metadata": {},
   "outputs": [],
   "source": [
    "# plot the linear regression model (only for 2 dimensional data)\n",
    "m = 100\n",
    "x_plot = np.linspace(-1,1,m).reshape(100,1)\n",
    "y_plot = linreg.predict(x_plot)\n",
    "\n",
    "fig, ax = plt.subplots(figsize=(12,5)) # figure size\n",
    "ax.plot(x_plot,y_plot, c='red', label='linear model')\n",
    "\n",
    "# plot the dataset\n",
    "ax.scatter(x,y, label='data points') # plot the data\n",
    "ax.set_xlabel('x',fontsize=20) # set x-axis label\n",
    "ax.set_ylabel('y',fontsize=20) # set y-axis label\n",
    "ax.set_title('A linear-looking dataset',fontsize=20) # set title\n",
    "ax.legend(fontsize=15) # plot legend"
   ]
  },
  {
   "cell_type": "markdown",
   "metadata": {},
   "source": [
    "## 2. Multivariate Linear Regression"
   ]
  },
  {
   "cell_type": "markdown",
   "metadata": {},
   "source": [
    "### Form of Linear Regression"
   ]
  },
  {
   "cell_type": "markdown",
   "metadata": {},
   "source": [
    "A linear model assumes that there is a linear relation between the variable $y$ and the features $x_i$"
   ]
  },
  {
   "cell_type": "markdown",
   "metadata": {},
   "source": [
    "$y = \\theta_0 + \\theta_1x_1 + \\theta_2x_2 + \\cdots + \\theta_nx_n$,\n",
    "\n",
    "where:\n",
    "\n",
    "$y$ is the response \n",
    "\n",
    "$\\theta_0$ is the **bias** (aka the intercept)\n",
    "\n",
    "$\\theta_1$ is the **coefficient** for $x_1$ (the first feature)\n",
    "\n",
    "$\\theta_2$ is the **coefficient** for $x_2$ (the second feature)\n",
    "\n",
    "$\\vdots$\n",
    "\n",
    "$\\theta_n$ is the **coefficient** for $x_n$ (the nth feature)"
   ]
  },
  {
   "cell_type": "markdown",
   "metadata": {},
   "source": [
    "The model coefficients $\\theta_i$ are \"learned\" during the model fitting step using the \"least squares\" criterion. \n",
    "Then, the fitted model can be used to make predictions!"
   ]
  },
  {
   "cell_type": "markdown",
   "metadata": {},
   "source": [
    "### Training a linear model"
   ]
  },
  {
   "cell_type": "markdown",
   "metadata": {},
   "source": [
    "To train a linear model, one needs to find the model coefficients $\\theta_i$ that minimize the **Root Mean Square Error (RMSE)**"
   ]
  },
  {
   "cell_type": "markdown",
   "metadata": {},
   "source": [
    "$$\n",
    "\\sqrt{\\frac{1}{n}\\sum_{i=1}^n\\left(\\widehat{y}_i- y_i\\right)^2}\n",
    "$$"
   ]
  },
  {
   "cell_type": "markdown",
   "metadata": {},
   "source": [
    "where the $y_i$ values are the actual values of the response variable, and the $\\hat{y}_i$ values are the predicted values"
   ]
  },
  {
   "cell_type": "markdown",
   "metadata": {},
   "source": [
    "### Example: Sales Prediction"
   ]
  },
  {
   "cell_type": "code",
   "execution_count": null,
   "metadata": {},
   "outputs": [],
   "source": [
    "# load the data\n",
    "url = 'https://raw.githubusercontent.com/justmarkham/scikit-learn-videos/master/data/Advertising.csv'\n",
    "sales = pd.read_csv(url, index_col=0)\n",
    "sales.head()"
   ]
  },
  {
   "cell_type": "markdown",
   "metadata": {},
   "source": [
    "What are the **features**?\n",
    "\n",
    "- **TV**: advertising dollars spent on TV for a single product in a given market (in thousands of dollars)\n",
    "- **Radio**: advertising dollars spent on Radio\n",
    "- **Newspaper**: advertising dollars spent on Newspaper\n",
    "    \n",
    "What is the **response**?\n",
    "\n",
    "- **Sales**: sales of a single product in a given market (in thousands of items)"
   ]
  },
  {
   "cell_type": "markdown",
   "metadata": {},
   "source": [
    "### Visualize the relationship between the features and the response"
   ]
  },
  {
   "cell_type": "markdown",
   "metadata": {},
   "source": [
    "A scatterplot can help determine if two variables are related in some systematic way."
   ]
  },
  {
   "cell_type": "code",
   "execution_count": null,
   "metadata": {},
   "outputs": [],
   "source": [
    "plt.figure(figsize=(12,5))\n",
    "plt.plot(sales['TV'],sales['Sales'],'o')\n",
    "plt.xlabel('TV', fontsize=20)\n",
    "plt.ylabel('Sales', fontsize=20)"
   ]
  },
  {
   "cell_type": "code",
   "execution_count": null,
   "metadata": {},
   "outputs": [],
   "source": [
    "plt.figure(figsize=(12,5))\n",
    "plt.plot(sales['Radio'],sales['Sales'],'o')\n",
    "plt.xlabel('Radio', fontsize=20)\n",
    "plt.ylabel('Sales', fontsize=20)"
   ]
  },
  {
   "cell_type": "code",
   "execution_count": null,
   "metadata": {},
   "outputs": [],
   "source": [
    "plt.figure(figsize=(12,5))\n",
    "plt.plot(sales['Newspaper'],sales['Sales'],'o')\n",
    "plt.xlabel('Newspaper', fontsize=20)\n",
    "plt.ylabel('Sales', fontsize=20)"
   ]
  },
  {
   "cell_type": "markdown",
   "metadata": {},
   "source": [
    "**Goal:** Train a linear model which predicts sales based on the money spent on different platforms for marketing.\n",
    "\n",
    "$y = \\theta_0 + \\theta_1 \\times \\mathrm{TV} + \\theta_2 \\times \\mathrm{Radio} + \\theta_3 \\times \\mathrm{Newspaper}$"
   ]
  },
  {
   "cell_type": "markdown",
   "metadata": {},
   "source": [
    "### Linear Regression in scikit-learn"
   ]
  },
  {
   "cell_type": "code",
   "execution_count": null,
   "metadata": {},
   "outputs": [],
   "source": [
    "# feature matrix X / target vector y\n",
    "feature_cols = ['TV', 'Radio', 'Newspaper']\n",
    "X = sales[feature_cols]\n",
    "y = sales.Sales"
   ]
  },
  {
   "cell_type": "code",
   "execution_count": null,
   "metadata": {},
   "outputs": [],
   "source": [
    "# train / test split\n",
    "from sklearn.model_selection import train_test_split\n",
    "X_train, X_test, y_train, y_test = train_test_split(X, y)"
   ]
  },
  {
   "cell_type": "code",
   "execution_count": null,
   "metadata": {},
   "outputs": [],
   "source": [
    "from sklearn.linear_model import LinearRegression\n",
    "\n",
    "# initialize\n",
    "linreg = LinearRegression()\n",
    "# fit the model to the training data (learn the coefficients)\n",
    "linreg.fit(X_train, y_train)"
   ]
  },
  {
   "cell_type": "markdown",
   "metadata": {},
   "source": [
    "### Interpreting linear regression coefficients"
   ]
  },
  {
   "cell_type": "code",
   "execution_count": null,
   "metadata": {},
   "outputs": [],
   "source": [
    "# coefficients\n",
    "print(linreg.coef_)"
   ]
  },
  {
   "cell_type": "code",
   "execution_count": null,
   "metadata": {},
   "outputs": [],
   "source": [
    "# pair the feature names with the coefficients\n",
    "coeffs = pd.DataFrame(linreg.coef_, feature_cols, columns=['coefficient'])\n",
    "coeffs"
   ]
  },
  {
   "cell_type": "code",
   "execution_count": null,
   "metadata": {},
   "outputs": [],
   "source": [
    "coeffs.plot(kind='bar')"
   ]
  },
  {
   "cell_type": "code",
   "execution_count": null,
   "metadata": {},
   "outputs": [],
   "source": [
    "# bias term\n",
    "linreg.intercept_"
   ]
  },
  {
   "cell_type": "markdown",
   "metadata": {},
   "source": [
    "How do we interpret the TV coefficient (0.0461)?\n",
    "\n",
    "- For a given amount of Radio and Newspaper ad spending, a \"unit\" (1000 dollars) increase in TV ad spending is associated with a 0.0466 \"unit\" increase in Sales."
   ]
  },
  {
   "cell_type": "markdown",
   "metadata": {},
   "source": [
    "### Making predictions"
   ]
  },
  {
   "cell_type": "code",
   "execution_count": null,
   "metadata": {},
   "outputs": [],
   "source": [
    "y_test_pred = linreg.predict(X_test)\n",
    "y_test_pred"
   ]
  },
  {
   "cell_type": "markdown",
   "metadata": {},
   "source": [
    "### Model evaluation "
   ]
  },
  {
   "cell_type": "markdown",
   "metadata": {},
   "source": [
    "**Root Mean Squared Error (RMSE)** is the square root of the mean of the squared errors:\n",
    "\n",
    "$$\\sqrt{\\frac 1n\\sum_{i=1}^n(y_i-\\hat{y}_i)^2}$$\n",
    "\n",
    "where\n",
    "\n",
    "- $n$ is the size of the dataset\n",
    "- $\\hat{y}_i$ is the prediction for $y_i$"
   ]
  },
  {
   "cell_type": "code",
   "execution_count": null,
   "metadata": {},
   "outputs": [],
   "source": [
    "from sklearn.metrics import mean_squared_error\n",
    "mean_squared_error(y_test, y_test_pred)"
   ]
  },
  {
   "cell_type": "markdown",
   "metadata": {},
   "source": [
    "On average, the predictions are off by 2000 dollars."
   ]
  },
  {
   "cell_type": "markdown",
   "metadata": {},
   "source": [
    "### Visualize the prediction (only for small datasets)"
   ]
  },
  {
   "cell_type": "code",
   "execution_count": null,
   "metadata": {},
   "outputs": [],
   "source": [
    "# plot predicted values against observed values\n",
    "plt.plot(y_test, y_test_pred, 'o')\n",
    "plt.xlabel('actual')\n",
    "plt.ylabel('predicted')"
   ]
  },
  {
   "cell_type": "markdown",
   "metadata": {},
   "source": [
    "### Adding polynomial features"
   ]
  },
  {
   "cell_type": "code",
   "execution_count": null,
   "metadata": {},
   "outputs": [],
   "source": [
    "from sklearn.preprocessing import PolynomialFeatures\n",
    "from sklearn.pipeline import Pipeline"
   ]
  },
  {
   "cell_type": "code",
   "execution_count": null,
   "metadata": {},
   "outputs": [],
   "source": [
    "pipe = Pipeline(steps=[\n",
    "    ('poly_features', PolynomialFeatures(degree=3,include_bias=False)),\n",
    "    ('reg', linreg)\n",
    "])"
   ]
  },
  {
   "cell_type": "code",
   "execution_count": null,
   "metadata": {},
   "outputs": [],
   "source": [
    "pipe.fit(X_train,y_train)"
   ]
  },
  {
   "cell_type": "code",
   "execution_count": null,
   "metadata": {},
   "outputs": [],
   "source": [
    "# original features\n",
    "feature_cols"
   ]
  },
  {
   "cell_type": "code",
   "execution_count": null,
   "metadata": {
    "scrolled": true
   },
   "outputs": [],
   "source": [
    "# polynomial features\n",
    "poly_features_names = pipe['poly_features'].get_feature_names(feature_cols)\n",
    "poly_features_names"
   ]
  },
  {
   "cell_type": "code",
   "execution_count": null,
   "metadata": {},
   "outputs": [],
   "source": [
    "# pair the feature names with the coefficients\n",
    "coeffs = pd.DataFrame(pipe['reg'].coef_,poly_features_names, columns=['coefficient'])\n",
    "coeffs "
   ]
  },
  {
   "cell_type": "code",
   "execution_count": null,
   "metadata": {},
   "outputs": [],
   "source": [
    "coeffs.plot(kind='bar')"
   ]
  },
  {
   "cell_type": "code",
   "execution_count": null,
   "metadata": {},
   "outputs": [],
   "source": [
    "y_test_pred = pipe.predict(X_test)"
   ]
  },
  {
   "cell_type": "code",
   "execution_count": null,
   "metadata": {},
   "outputs": [],
   "source": [
    "plt.plot(y_test, y_test_pred, 'o')\n",
    "plt.xlabel('actual')\n",
    "plt.ylabel('predicted')"
   ]
  }
 ],
 "metadata": {
  "kernelspec": {
   "display_name": "Python 3 (ipykernel)",
   "language": "python",
   "name": "python3"
  },
  "language_info": {
   "codemirror_mode": {
    "name": "ipython",
    "version": 3
   },
   "file_extension": ".py",
   "mimetype": "text/x-python",
   "name": "python",
   "nbconvert_exporter": "python",
   "pygments_lexer": "ipython3",
   "version": "3.9.12"
  }
 },
 "nbformat": 4,
 "nbformat_minor": 4
}
