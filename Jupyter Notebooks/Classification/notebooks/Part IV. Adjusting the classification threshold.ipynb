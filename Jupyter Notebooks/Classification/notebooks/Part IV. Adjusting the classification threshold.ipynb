{
 "cells": [
  {
   "cell_type": "code",
   "execution_count": 1,
   "metadata": {},
   "outputs": [],
   "source": [
    "import pandas as pd\n",
    "import numpy as np\n",
    "import matplotlib.pyplot as plt"
   ]
  },
  {
   "cell_type": "code",
   "execution_count": 2,
   "metadata": {},
   "outputs": [],
   "source": [
    "from sklearn.metrics import accuracy_score, confusion_matrix, recall_score, precision_score"
   ]
  },
  {
   "cell_type": "code",
   "execution_count": 3,
   "metadata": {},
   "outputs": [],
   "source": [
    "from sklearn.linear_model import LogisticRegression\n",
    "from sklearn.model_selection import train_test_split"
   ]
  },
  {
   "cell_type": "markdown",
   "metadata": {},
   "source": [
    "# Adjusting the classification threshold"
   ]
  },
  {
   "cell_type": "markdown",
   "metadata": {},
   "source": [
    "- [Precision/Recall Trade-off](#Precision/Recall-Trade-off)\n",
    "- [ROC curve and AUC score](#ROC-curve-and-AUC-score)"
   ]
  },
  {
   "cell_type": "code",
   "execution_count": 4,
   "metadata": {},
   "outputs": [
    {
     "data": {
      "text/html": [
       "<div>\n",
       "<style scoped>\n",
       "    .dataframe tbody tr th:only-of-type {\n",
       "        vertical-align: middle;\n",
       "    }\n",
       "\n",
       "    .dataframe tbody tr th {\n",
       "        vertical-align: top;\n",
       "    }\n",
       "\n",
       "    .dataframe thead th {\n",
       "        text-align: right;\n",
       "    }\n",
       "</style>\n",
       "<table border=\"1\" class=\"dataframe\">\n",
       "  <thead>\n",
       "    <tr style=\"text-align: right;\">\n",
       "      <th></th>\n",
       "      <th>pregnant</th>\n",
       "      <th>glucose</th>\n",
       "      <th>bp</th>\n",
       "      <th>skin</th>\n",
       "      <th>insulin</th>\n",
       "      <th>bmi</th>\n",
       "      <th>pedigree</th>\n",
       "      <th>age</th>\n",
       "      <th>label</th>\n",
       "    </tr>\n",
       "  </thead>\n",
       "  <tbody>\n",
       "    <tr>\n",
       "      <th>0</th>\n",
       "      <td>6</td>\n",
       "      <td>148</td>\n",
       "      <td>72</td>\n",
       "      <td>35</td>\n",
       "      <td>0</td>\n",
       "      <td>33.6</td>\n",
       "      <td>0.627</td>\n",
       "      <td>50</td>\n",
       "      <td>1</td>\n",
       "    </tr>\n",
       "    <tr>\n",
       "      <th>1</th>\n",
       "      <td>1</td>\n",
       "      <td>85</td>\n",
       "      <td>66</td>\n",
       "      <td>29</td>\n",
       "      <td>0</td>\n",
       "      <td>26.6</td>\n",
       "      <td>0.351</td>\n",
       "      <td>31</td>\n",
       "      <td>0</td>\n",
       "    </tr>\n",
       "    <tr>\n",
       "      <th>2</th>\n",
       "      <td>8</td>\n",
       "      <td>183</td>\n",
       "      <td>64</td>\n",
       "      <td>0</td>\n",
       "      <td>0</td>\n",
       "      <td>23.3</td>\n",
       "      <td>0.672</td>\n",
       "      <td>32</td>\n",
       "      <td>1</td>\n",
       "    </tr>\n",
       "    <tr>\n",
       "      <th>3</th>\n",
       "      <td>1</td>\n",
       "      <td>89</td>\n",
       "      <td>66</td>\n",
       "      <td>23</td>\n",
       "      <td>94</td>\n",
       "      <td>28.1</td>\n",
       "      <td>0.167</td>\n",
       "      <td>21</td>\n",
       "      <td>0</td>\n",
       "    </tr>\n",
       "    <tr>\n",
       "      <th>4</th>\n",
       "      <td>0</td>\n",
       "      <td>137</td>\n",
       "      <td>40</td>\n",
       "      <td>35</td>\n",
       "      <td>168</td>\n",
       "      <td>43.1</td>\n",
       "      <td>2.288</td>\n",
       "      <td>33</td>\n",
       "      <td>1</td>\n",
       "    </tr>\n",
       "  </tbody>\n",
       "</table>\n",
       "</div>"
      ],
      "text/plain": [
       "   pregnant  glucose  bp  skin  insulin   bmi  pedigree  age  label\n",
       "0         6      148  72    35        0  33.6     0.627   50      1\n",
       "1         1       85  66    29        0  26.6     0.351   31      0\n",
       "2         8      183  64     0        0  23.3     0.672   32      1\n",
       "3         1       89  66    23       94  28.1     0.167   21      0\n",
       "4         0      137  40    35      168  43.1     2.288   33      1"
      ]
     },
     "execution_count": 4,
     "metadata": {},
     "output_type": "execute_result"
    }
   ],
   "source": [
    "# load the pima indian dataset\n",
    "url = 'https://raw.githubusercontent.com/um-perez-alvaro/Data-Science-Practice/master/Data/pima.csv'\n",
    "pima = pd.read_csv(url)\n",
    "pima.head()"
   ]
  },
  {
   "cell_type": "code",
   "execution_count": 5,
   "metadata": {},
   "outputs": [
    {
     "data": {
      "text/plain": [
       "(768, 9)"
      ]
     },
     "execution_count": 5,
     "metadata": {},
     "output_type": "execute_result"
    }
   ],
   "source": [
    "pima.shape"
   ]
  },
  {
   "cell_type": "code",
   "execution_count": 6,
   "metadata": {},
   "outputs": [
    {
     "data": {
      "text/plain": [
       "LogisticRegression(max_iter=1000)"
      ]
     },
     "execution_count": 6,
     "metadata": {},
     "output_type": "execute_result"
    }
   ],
   "source": [
    "# define X and y\n",
    "X = pima.drop('label',axis=1)\n",
    "y = pima.label\n",
    "\n",
    "# train/test split\n",
    "X_train,X_test,y_train,y_test = train_test_split(X,y)\n",
    "\n",
    "# instantiate the logistic regression classifier\n",
    "logreg_clf = LogisticRegression(max_iter=1000)\n",
    "\n",
    "# train the model\n",
    "logreg_clf.fit(X_train,y_train)"
   ]
  },
  {
   "cell_type": "markdown",
   "metadata": {},
   "source": [
    "Let's look at how the classifier makes its prediction. \n",
    "For each patient, logistic regression computes the probability of that patient having diabetes"
   ]
  },
  {
   "cell_type": "code",
   "execution_count": 7,
   "metadata": {},
   "outputs": [
    {
     "data": {
      "text/plain": [
       "array([[0.54093589, 0.45906411],\n",
       "       [0.57448419, 0.42551581],\n",
       "       [0.34145054, 0.65854946],\n",
       "       [0.80524148, 0.19475852],\n",
       "       [0.93791558, 0.06208442],\n",
       "       [0.83704839, 0.16295161],\n",
       "       [0.85274635, 0.14725365],\n",
       "       [0.709765  , 0.290235  ],\n",
       "       [0.93774851, 0.06225149],\n",
       "       [0.8652373 , 0.1347627 ],\n",
       "       [0.80822094, 0.19177906],\n",
       "       [0.47802178, 0.52197822],\n",
       "       [0.69221985, 0.30778015],\n",
       "       [0.34337348, 0.65662652],\n",
       "       [0.41836432, 0.58163568],\n",
       "       [0.1710907 , 0.8289093 ],\n",
       "       [0.28144517, 0.71855483],\n",
       "       [0.22682067, 0.77317933],\n",
       "       [0.30137875, 0.69862125],\n",
       "       [0.93183426, 0.06816574],\n",
       "       [0.20791966, 0.79208034],\n",
       "       [0.60970985, 0.39029015],\n",
       "       [0.84626915, 0.15373085],\n",
       "       [0.55612054, 0.44387946],\n",
       "       [0.84834756, 0.15165244],\n",
       "       [0.45400974, 0.54599026],\n",
       "       [0.20220603, 0.79779397],\n",
       "       [0.98474956, 0.01525044],\n",
       "       [0.85061771, 0.14938229],\n",
       "       [0.7542056 , 0.2457944 ],\n",
       "       [0.45420546, 0.54579454],\n",
       "       [0.88016915, 0.11983085],\n",
       "       [0.64692217, 0.35307783],\n",
       "       [0.95471381, 0.04528619],\n",
       "       [0.76032927, 0.23967073],\n",
       "       [0.7019866 , 0.2980134 ],\n",
       "       [0.71824381, 0.28175619],\n",
       "       [0.6408592 , 0.3591408 ],\n",
       "       [0.86912956, 0.13087044],\n",
       "       [0.24758782, 0.75241218],\n",
       "       [0.66787077, 0.33212923],\n",
       "       [0.28998456, 0.71001544],\n",
       "       [0.06738508, 0.93261492],\n",
       "       [0.55847864, 0.44152136],\n",
       "       [0.94609047, 0.05390953],\n",
       "       [0.19443307, 0.80556693],\n",
       "       [0.64406352, 0.35593648],\n",
       "       [0.80482478, 0.19517522],\n",
       "       [0.97539484, 0.02460516],\n",
       "       [0.57968319, 0.42031681],\n",
       "       [0.88049374, 0.11950626],\n",
       "       [0.87831622, 0.12168378],\n",
       "       [0.93020891, 0.06979109],\n",
       "       [0.54311862, 0.45688138],\n",
       "       [0.92777935, 0.07222065],\n",
       "       [0.84962487, 0.15037513],\n",
       "       [0.32721774, 0.67278226],\n",
       "       [0.22053792, 0.77946208],\n",
       "       [0.60416599, 0.39583401],\n",
       "       [0.3901939 , 0.6098061 ],\n",
       "       [0.52628087, 0.47371913],\n",
       "       [0.95908418, 0.04091582],\n",
       "       [0.86071632, 0.13928368],\n",
       "       [0.99818711, 0.00181289],\n",
       "       [0.84597402, 0.15402598],\n",
       "       [0.98164627, 0.01835373],\n",
       "       [0.80958498, 0.19041502],\n",
       "       [0.95184984, 0.04815016],\n",
       "       [0.54655937, 0.45344063],\n",
       "       [0.8756229 , 0.1243771 ],\n",
       "       [0.47515846, 0.52484154],\n",
       "       [0.82806153, 0.17193847],\n",
       "       [0.81862563, 0.18137437],\n",
       "       [0.9437837 , 0.0562163 ],\n",
       "       [0.79443902, 0.20556098],\n",
       "       [0.89523583, 0.10476417],\n",
       "       [0.35800697, 0.64199303],\n",
       "       [0.44946584, 0.55053416],\n",
       "       [0.68154774, 0.31845226],\n",
       "       [0.06926318, 0.93073682],\n",
       "       [0.10322581, 0.89677419],\n",
       "       [0.27992095, 0.72007905],\n",
       "       [0.93679167, 0.06320833],\n",
       "       [0.90055586, 0.09944414],\n",
       "       [0.71602618, 0.28397382],\n",
       "       [0.09895053, 0.90104947],\n",
       "       [0.73126301, 0.26873699],\n",
       "       [0.92790784, 0.07209216],\n",
       "       [0.92792036, 0.07207964],\n",
       "       [0.78947321, 0.21052679],\n",
       "       [0.77259193, 0.22740807],\n",
       "       [0.15733105, 0.84266895],\n",
       "       [0.94332759, 0.05667241],\n",
       "       [0.75693697, 0.24306303],\n",
       "       [0.82113281, 0.17886719],\n",
       "       [0.91326938, 0.08673062],\n",
       "       [0.90994532, 0.09005468],\n",
       "       [0.92630681, 0.07369319],\n",
       "       [0.85754617, 0.14245383],\n",
       "       [0.95929132, 0.04070868],\n",
       "       [0.65312487, 0.34687513],\n",
       "       [0.26130722, 0.73869278],\n",
       "       [0.77556957, 0.22443043],\n",
       "       [0.20863572, 0.79136428],\n",
       "       [0.9071706 , 0.0928294 ],\n",
       "       [0.85695407, 0.14304593],\n",
       "       [0.82856027, 0.17143973],\n",
       "       [0.54676946, 0.45323054],\n",
       "       [0.97762364, 0.02237636],\n",
       "       [0.44644837, 0.55355163],\n",
       "       [0.90227262, 0.09772738],\n",
       "       [0.7452226 , 0.2547774 ],\n",
       "       [0.25074496, 0.74925504],\n",
       "       [0.92236637, 0.07763363],\n",
       "       [0.9082276 , 0.0917724 ],\n",
       "       [0.58126308, 0.41873692],\n",
       "       [0.80474137, 0.19525863],\n",
       "       [0.64346278, 0.35653722],\n",
       "       [0.84212996, 0.15787004],\n",
       "       [0.10917532, 0.89082468],\n",
       "       [0.04878804, 0.95121196],\n",
       "       [0.76218354, 0.23781646],\n",
       "       [0.92076207, 0.07923793],\n",
       "       [0.80385796, 0.19614204],\n",
       "       [0.06327452, 0.93672548],\n",
       "       [0.87467096, 0.12532904],\n",
       "       [0.74363404, 0.25636596],\n",
       "       [0.05248033, 0.94751967],\n",
       "       [0.68804443, 0.31195557],\n",
       "       [0.88610038, 0.11389962],\n",
       "       [0.86933205, 0.13066795],\n",
       "       [0.51050823, 0.48949177],\n",
       "       [0.71240795, 0.28759205],\n",
       "       [0.93546933, 0.06453067],\n",
       "       [0.36286847, 0.63713153],\n",
       "       [0.09760788, 0.90239212],\n",
       "       [0.95245455, 0.04754545],\n",
       "       [0.77439819, 0.22560181],\n",
       "       [0.17559923, 0.82440077],\n",
       "       [0.53089796, 0.46910204],\n",
       "       [0.61944353, 0.38055647],\n",
       "       [0.75733184, 0.24266816],\n",
       "       [0.80509931, 0.19490069],\n",
       "       [0.7623619 , 0.2376381 ],\n",
       "       [0.25798468, 0.74201532],\n",
       "       [0.77984349, 0.22015651],\n",
       "       [0.00740511, 0.99259489],\n",
       "       [0.0331638 , 0.9668362 ],\n",
       "       [0.97032921, 0.02967079],\n",
       "       [0.89956441, 0.10043559],\n",
       "       [0.80486478, 0.19513522],\n",
       "       [0.12297572, 0.87702428],\n",
       "       [0.72051808, 0.27948192],\n",
       "       [0.67893911, 0.32106089],\n",
       "       [0.77178733, 0.22821267],\n",
       "       [0.64162023, 0.35837977],\n",
       "       [0.86456812, 0.13543188],\n",
       "       [0.18160009, 0.81839991],\n",
       "       [0.05761306, 0.94238694],\n",
       "       [0.70697706, 0.29302294],\n",
       "       [0.92320144, 0.07679856],\n",
       "       [0.24814765, 0.75185235],\n",
       "       [0.82835241, 0.17164759],\n",
       "       [0.57294296, 0.42705704],\n",
       "       [0.5972245 , 0.4027755 ],\n",
       "       [0.96144344, 0.03855656],\n",
       "       [0.34554866, 0.65445134],\n",
       "       [0.92324435, 0.07675565],\n",
       "       [0.96720244, 0.03279756],\n",
       "       [0.89213797, 0.10786203],\n",
       "       [0.15411213, 0.84588787],\n",
       "       [0.16304847, 0.83695153],\n",
       "       [0.50907377, 0.49092623],\n",
       "       [0.90364326, 0.09635674],\n",
       "       [0.20793809, 0.79206191],\n",
       "       [0.23908878, 0.76091122],\n",
       "       [0.99278284, 0.00721716],\n",
       "       [0.98079071, 0.01920929],\n",
       "       [0.03977082, 0.96022918],\n",
       "       [0.93949823, 0.06050177],\n",
       "       [0.57703768, 0.42296232],\n",
       "       [0.0690874 , 0.9309126 ],\n",
       "       [0.83311426, 0.16688574],\n",
       "       [0.91869585, 0.08130415],\n",
       "       [0.55875417, 0.44124583],\n",
       "       [0.3613552 , 0.6386448 ],\n",
       "       [0.68491639, 0.31508361],\n",
       "       [0.80835201, 0.19164799],\n",
       "       [0.76567179, 0.23432821],\n",
       "       [0.36676529, 0.63323471],\n",
       "       [0.81674142, 0.18325858],\n",
       "       [0.78475567, 0.21524433]])"
      ]
     },
     "execution_count": 7,
     "metadata": {},
     "output_type": "execute_result"
    }
   ],
   "source": [
    "# first column is the probability of label=0, second column is the probability of label=1\n",
    "logreg_clf.predict_proba(X_test)"
   ]
  },
  {
   "cell_type": "code",
   "execution_count": 8,
   "metadata": {},
   "outputs": [
    {
     "data": {
      "text/plain": [
       "array([0.45906411, 0.42551581, 0.65854946, 0.19475852, 0.06208442,\n",
       "       0.16295161, 0.14725365, 0.290235  , 0.06225149, 0.1347627 ,\n",
       "       0.19177906, 0.52197822, 0.30778015, 0.65662652, 0.58163568,\n",
       "       0.8289093 , 0.71855483, 0.77317933, 0.69862125, 0.06816574,\n",
       "       0.79208034, 0.39029015, 0.15373085, 0.44387946, 0.15165244,\n",
       "       0.54599026, 0.79779397, 0.01525044, 0.14938229, 0.2457944 ,\n",
       "       0.54579454, 0.11983085, 0.35307783, 0.04528619, 0.23967073,\n",
       "       0.2980134 , 0.28175619, 0.3591408 , 0.13087044, 0.75241218,\n",
       "       0.33212923, 0.71001544, 0.93261492, 0.44152136, 0.05390953,\n",
       "       0.80556693, 0.35593648, 0.19517522, 0.02460516, 0.42031681,\n",
       "       0.11950626, 0.12168378, 0.06979109, 0.45688138, 0.07222065,\n",
       "       0.15037513, 0.67278226, 0.77946208, 0.39583401, 0.6098061 ,\n",
       "       0.47371913, 0.04091582, 0.13928368, 0.00181289, 0.15402598,\n",
       "       0.01835373, 0.19041502, 0.04815016, 0.45344063, 0.1243771 ,\n",
       "       0.52484154, 0.17193847, 0.18137437, 0.0562163 , 0.20556098,\n",
       "       0.10476417, 0.64199303, 0.55053416, 0.31845226, 0.93073682,\n",
       "       0.89677419, 0.72007905, 0.06320833, 0.09944414, 0.28397382,\n",
       "       0.90104947, 0.26873699, 0.07209216, 0.07207964, 0.21052679,\n",
       "       0.22740807, 0.84266895, 0.05667241, 0.24306303, 0.17886719,\n",
       "       0.08673062, 0.09005468, 0.07369319, 0.14245383, 0.04070868,\n",
       "       0.34687513, 0.73869278, 0.22443043, 0.79136428, 0.0928294 ,\n",
       "       0.14304593, 0.17143973, 0.45323054, 0.02237636, 0.55355163,\n",
       "       0.09772738, 0.2547774 , 0.74925504, 0.07763363, 0.0917724 ,\n",
       "       0.41873692, 0.19525863, 0.35653722, 0.15787004, 0.89082468,\n",
       "       0.95121196, 0.23781646, 0.07923793, 0.19614204, 0.93672548,\n",
       "       0.12532904, 0.25636596, 0.94751967, 0.31195557, 0.11389962,\n",
       "       0.13066795, 0.48949177, 0.28759205, 0.06453067, 0.63713153,\n",
       "       0.90239212, 0.04754545, 0.22560181, 0.82440077, 0.46910204,\n",
       "       0.38055647, 0.24266816, 0.19490069, 0.2376381 , 0.74201532,\n",
       "       0.22015651, 0.99259489, 0.9668362 , 0.02967079, 0.10043559,\n",
       "       0.19513522, 0.87702428, 0.27948192, 0.32106089, 0.22821267,\n",
       "       0.35837977, 0.13543188, 0.81839991, 0.94238694, 0.29302294,\n",
       "       0.07679856, 0.75185235, 0.17164759, 0.42705704, 0.4027755 ,\n",
       "       0.03855656, 0.65445134, 0.07675565, 0.03279756, 0.10786203,\n",
       "       0.84588787, 0.83695153, 0.49092623, 0.09635674, 0.79206191,\n",
       "       0.76091122, 0.00721716, 0.01920929, 0.96022918, 0.06050177,\n",
       "       0.42296232, 0.9309126 , 0.16688574, 0.08130415, 0.44124583,\n",
       "       0.6386448 , 0.31508361, 0.19164799, 0.23432821, 0.63323471,\n",
       "       0.18325858, 0.21524433])"
      ]
     },
     "execution_count": 8,
     "metadata": {},
     "output_type": "execute_result"
    }
   ],
   "source": [
    "# probability of label = 1 (diabetes)\n",
    "proba = logreg_clf.predict_proba(X_test)[:,1]\n",
    "proba"
   ]
  },
  {
   "cell_type": "markdown",
   "metadata": {},
   "source": [
    "Scikit-learn does not let you set the threshold directly.\n",
    "Scikit-learn models predict label=1 if the probability is larger than 0.5, otherwise they predicts label = 0."
   ]
  },
  {
   "cell_type": "code",
   "execution_count": 9,
   "metadata": {},
   "outputs": [
    {
     "data": {
      "text/plain": [
       "array([0, 0, 1, 0, 0, 0, 0, 0, 0, 0, 0, 1, 0, 1, 1, 1, 1, 1, 1, 0, 1, 0,\n",
       "       0, 0, 0, 1, 1, 0, 0, 0, 1, 0, 0, 0, 0, 0, 0, 0, 0, 1, 0, 1, 1, 0,\n",
       "       0, 1, 0, 0, 0, 0, 0, 0, 0, 0, 0, 0, 1, 1, 0, 1, 0, 0, 0, 0, 0, 0,\n",
       "       0, 0, 0, 0, 1, 0, 0, 0, 0, 0, 1, 1, 0, 1, 1, 1, 0, 0, 0, 1, 0, 0,\n",
       "       0, 0, 0, 1, 0, 0, 0, 0, 0, 0, 0, 0, 0, 1, 0, 1, 0, 0, 0, 0, 0, 1,\n",
       "       0, 0, 1, 0, 0, 0, 0, 0, 0, 1, 1, 0, 0, 0, 1, 0, 0, 1, 0, 0, 0, 0,\n",
       "       0, 0, 1, 1, 0, 0, 1, 0, 0, 0, 0, 0, 1, 0, 1, 1, 0, 0, 0, 1, 0, 0,\n",
       "       0, 0, 0, 1, 1, 0, 0, 1, 0, 0, 0, 0, 1, 0, 0, 0, 1, 1, 0, 0, 1, 1,\n",
       "       0, 0, 1, 0, 0, 1, 0, 0, 0, 1, 0, 0, 0, 1, 0, 0], dtype=int64)"
      ]
     },
     "execution_count": 9,
     "metadata": {},
     "output_type": "execute_result"
    }
   ],
   "source": [
    "# sklearn predictions uses threshold = 0.5\n",
    "y_test_pred = logreg_clf.predict(X_test)\n",
    "y_test_pred"
   ]
  },
  {
   "cell_type": "code",
   "execution_count": 10,
   "metadata": {},
   "outputs": [
    {
     "name": "stdout",
     "output_type": "stream",
     "text": [
      "0.7708333333333334\n",
      "0.5714285714285714\n",
      "0.7407407407407407\n"
     ]
    }
   ],
   "source": [
    "print(accuracy_score(y_test,y_test_pred))\n",
    "print(recall_score(y_test,y_test_pred))\n",
    "print(precision_score(y_test,y_test_pred))"
   ]
  },
  {
   "cell_type": "code",
   "execution_count": 11,
   "metadata": {},
   "outputs": [
    {
     "data": {
      "text/plain": [
       "array([1., 1., 1., 0., 0., 0., 0., 0., 0., 0., 0., 1., 1., 1., 1., 1., 1.,\n",
       "       1., 1., 0., 1., 1., 0., 1., 0., 1., 1., 0., 0., 0., 1., 0., 1., 0.,\n",
       "       0., 0., 0., 1., 0., 1., 1., 1., 1., 1., 0., 1., 1., 0., 0., 1., 0.,\n",
       "       0., 0., 1., 0., 0., 1., 1., 1., 1., 1., 0., 0., 0., 0., 0., 0., 0.,\n",
       "       1., 0., 1., 0., 0., 0., 0., 0., 1., 1., 1., 1., 1., 1., 0., 0., 0.,\n",
       "       1., 0., 0., 0., 0., 0., 1., 0., 0., 0., 0., 0., 0., 0., 0., 1., 1.,\n",
       "       0., 1., 0., 0., 0., 1., 0., 1., 0., 0., 1., 0., 0., 1., 0., 1., 0.,\n",
       "       1., 1., 0., 0., 0., 1., 0., 0., 1., 1., 0., 0., 1., 0., 0., 1., 1.,\n",
       "       0., 0., 1., 1., 1., 0., 0., 0., 1., 0., 1., 1., 0., 0., 0., 1., 0.,\n",
       "       1., 0., 1., 0., 1., 1., 0., 0., 1., 0., 1., 1., 0., 1., 0., 0., 0.,\n",
       "       1., 1., 1., 0., 1., 1., 0., 0., 1., 0., 1., 1., 0., 0., 1., 1., 1.,\n",
       "       0., 0., 1., 0., 0.])"
      ]
     },
     "execution_count": 11,
     "metadata": {},
     "output_type": "execute_result"
    }
   ],
   "source": [
    "# predictions with a different threshold\n",
    "threshold = 0.3 # set new threshold\n",
    "y_test_pred = np.zeros(len(y_test)) # vector of all zeros\n",
    "y_test_pred[proba > threshold]=1 # set entry to 1 if probability is larger than the threshold\n",
    "y_test_pred"
   ]
  },
  {
   "cell_type": "code",
   "execution_count": 12,
   "metadata": {},
   "outputs": [
    {
     "name": "stdout",
     "output_type": "stream",
     "text": [
      "0.7395833333333334\n",
      "0.7571428571428571\n",
      "0.6162790697674418\n"
     ]
    }
   ],
   "source": [
    "print(accuracy_score(y_test,y_test_pred))\n",
    "print(recall_score(y_test,y_test_pred))\n",
    "print(precision_score(y_test,y_test_pred))"
   ]
  },
  {
   "cell_type": "markdown",
   "metadata": {},
   "source": [
    "We can loop over different thresholds and check which one gives the best evaluation metric (accuracy, recall, precision, etc)."
   ]
  },
  {
   "cell_type": "code",
   "execution_count": 13,
   "metadata": {},
   "outputs": [
    {
     "data": {
      "text/plain": [
       "array([0.        , 0.01010101, 0.02020202, 0.03030303, 0.04040404,\n",
       "       0.05050505, 0.06060606, 0.07070707, 0.08080808, 0.09090909,\n",
       "       0.1010101 , 0.11111111, 0.12121212, 0.13131313, 0.14141414,\n",
       "       0.15151515, 0.16161616, 0.17171717, 0.18181818, 0.19191919,\n",
       "       0.2020202 , 0.21212121, 0.22222222, 0.23232323, 0.24242424,\n",
       "       0.25252525, 0.26262626, 0.27272727, 0.28282828, 0.29292929,\n",
       "       0.3030303 , 0.31313131, 0.32323232, 0.33333333, 0.34343434,\n",
       "       0.35353535, 0.36363636, 0.37373737, 0.38383838, 0.39393939,\n",
       "       0.4040404 , 0.41414141, 0.42424242, 0.43434343, 0.44444444,\n",
       "       0.45454545, 0.46464646, 0.47474747, 0.48484848, 0.49494949,\n",
       "       0.50505051, 0.51515152, 0.52525253, 0.53535354, 0.54545455,\n",
       "       0.55555556, 0.56565657, 0.57575758, 0.58585859, 0.5959596 ,\n",
       "       0.60606061, 0.61616162, 0.62626263, 0.63636364, 0.64646465,\n",
       "       0.65656566, 0.66666667, 0.67676768, 0.68686869, 0.6969697 ,\n",
       "       0.70707071, 0.71717172, 0.72727273, 0.73737374, 0.74747475,\n",
       "       0.75757576, 0.76767677, 0.77777778, 0.78787879, 0.7979798 ,\n",
       "       0.80808081, 0.81818182, 0.82828283, 0.83838384, 0.84848485,\n",
       "       0.85858586, 0.86868687, 0.87878788, 0.88888889, 0.8989899 ,\n",
       "       0.90909091, 0.91919192, 0.92929293, 0.93939394, 0.94949495,\n",
       "       0.95959596, 0.96969697, 0.97979798, 0.98989899, 1.        ])"
      ]
     },
     "execution_count": 13,
     "metadata": {},
     "output_type": "execute_result"
    }
   ],
   "source": [
    "# create an array with different thresholds \n",
    "thresholds = np.linspace(0,1,100) # 100 evenly spaced points on [0,1]\n",
    "thresholds"
   ]
  },
  {
   "cell_type": "code",
   "execution_count": 14,
   "metadata": {},
   "outputs": [
    {
     "name": "stderr",
     "output_type": "stream",
     "text": [
      "C:\\Users\\javier.perez-alvaro\\Anaconda3\\lib\\site-packages\\sklearn\\metrics\\_classification.py:1318: UndefinedMetricWarning: Precision is ill-defined and being set to 0.0 due to no predicted samples. Use `zero_division` parameter to control this behavior.\n",
      "  _warn_prf(average, modifier, msg_start, len(result))\n"
     ]
    }
   ],
   "source": [
    "accuracies = []\n",
    "recalls = []\n",
    "precisions = []\n",
    "# loop over thresholds list\n",
    "for threshold in thresholds:\n",
    "    y_test_pred = np.zeros(len(y_test)) # vector of all zeros\n",
    "    y_test_pred[proba > threshold]=1\n",
    "    # accuracy\n",
    "    accuracies.append(accuracy_score(y_test,y_test_pred))\n",
    "    # recall\n",
    "    recalls.append(recall_score(y_test,y_test_pred))\n",
    "    # precision\n",
    "    precisions.append(precision_score(y_test,y_test_pred))"
   ]
  },
  {
   "cell_type": "code",
   "execution_count": 15,
   "metadata": {},
   "outputs": [
    {
     "data": {
      "text/plain": [
       "<matplotlib.legend.Legend at 0x1bc42045e80>"
      ]
     },
     "execution_count": 15,
     "metadata": {},
     "output_type": "execute_result"
    },
    {
     "data": {
      "image/png": "[encoded data removed]",
      "text/plain": [
       "<Figure size 1080x360 with 1 Axes>"
      ]
     },
     "metadata": {
      "needs_background": "light"
     },
     "output_type": "display_data"
    }
   ],
   "source": [
    "fig, axes = plt.subplots(figsize=(15,5))\n",
    "\n",
    "axes.plot(thresholds,accuracies,label='accuracy')\n",
    "axes.plot(thresholds,recalls,label='recall')\n",
    "axes.plot(thresholds,precisions,label='precision')\n",
    "\n",
    "axes.grid(True)\n",
    "axes.set_title('Evaluation metrics as a function of the threshold')\n",
    "axes.legend()\n"
   ]
  },
  {
   "cell_type": "markdown",
   "metadata": {},
   "source": [
    "## Precision/Recall Trade-off"
   ]
  },
  {
   "cell_type": "code",
   "execution_count": 16,
   "metadata": {},
   "outputs": [
    {
     "data": {
      "text/plain": [
       "Text(0, 0.5, 'precision')"
      ]
     },
     "execution_count": 16,
     "metadata": {},
     "output_type": "execute_result"
    },
    {
     "data": {
      "image/png": "[encoded data removed]",
      "text/plain": [
       "<Figure size 720x504 with 1 Axes>"
      ]
     },
     "metadata": {
      "needs_background": "light"
     },
     "output_type": "display_data"
    }
   ],
   "source": [
    "# precision vs recall curve\n",
    "fig, ax = plt.subplots(figsize=(10,7))\n",
    "ax.plot(recalls,precisions)\n",
    "ax.grid(True)\n",
    "ax.set_xlabel('recall')\n",
    "ax.set_ylabel('precision')"
   ]
  },
  {
   "cell_type": "markdown",
   "metadata": {},
   "source": [
    "The precision-recall curve shows the tradeoff between precision and recall for different threshold. A high area under the curve represents both high recall and high precision, where high precision relates to a low false positive rate, and high recall relates to a low false negative rate. High scores for both show that the classifier is returning accurate results (high precision), as well as returning a majority of all positive results (high recall)."
   ]
  },
  {
   "cell_type": "code",
   "execution_count": 18,
   "metadata": {},
   "outputs": [
    {
     "data": {
      "image/png": "[encoded data removed]",
      "text/plain": [
       "<Figure size 720x504 with 1 Axes>"
      ]
     },
     "metadata": {
      "needs_background": "light"
     },
     "output_type": "display_data"
    }
   ],
   "source": [
    "from sklearn.metrics import PrecisionRecallDisplay\n",
    "# to plot the precision-recall curve, you should use PrecisionRecallDisplay\n",
    "fig, ax = plt.subplots(figsize=(10,7))\n",
    "PrecisionRecallDisplay.from_estimator(logreg_clf,X_test,y_test,ax=ax)\n",
    "ax.grid(True)"
   ]
  },
  {
   "cell_type": "markdown",
   "metadata": {},
   "source": [
    "AP refers to \"average precision\", which is the area under the precision-recall curve"
   ]
  },
  {
   "cell_type": "code",
   "execution_count": 19,
   "metadata": {},
   "outputs": [
    {
     "data": {
      "text/plain": [
       "0.7300959009093448"
      ]
     },
     "execution_count": 19,
     "metadata": {},
     "output_type": "execute_result"
    }
   ],
   "source": [
    "from sklearn.metrics import average_precision_score\n",
    "average_precision_score(y_test,proba)"
   ]
  },
  {
   "cell_type": "markdown",
   "metadata": {},
   "source": [
    "## ROC curve and AUC score"
   ]
  },
  {
   "cell_type": "markdown",
   "metadata": {},
   "source": [
    "ROC stands for \"receiver operating characteristic\" (it was initially designed for evaluating the strength of radar detectors during WW2).\n",
    "ROC shows how well a model can separate two classes.\n",
    "\n",
    "The ROC curve is based on two quantities:\n",
    "\n",
    "- False positive rate (FPR): the fraction of false positives among all negative examples\n",
    "- True positive rate (TPR): the fraction of true positives among all positive examples.\n",
    "\n",
    "Like precision and recall, these values are based on the confusion matrix.\n",
    "\n",
    "\\begin{align*}\n",
    "&\\mathrm{FPR} = \\frac{\\mathrm{FP}}{\\mathrm{FP}+\\mathrm{TN}} \\\\\n",
    "&\\mathrm{TPR} = \\frac{\\mathrm{TP}}{\\mathrm{TP}+\\mathrm{FN}}\n",
    "\\end{align*}"
   ]
  },
  {
   "cell_type": "markdown",
   "metadata": {},
   "source": [
    "To create a ROC curve, we plot FPR and TPR against each other."
   ]
  },
  {
   "cell_type": "code",
   "execution_count": null,
   "metadata": {},
   "outputs": [],
   "source": [
    "from sklearn.metrics import RocCurveDisplay"
   ]
  },
  {
   "cell_type": "code",
   "execution_count": null,
   "metadata": {},
   "outputs": [],
   "source": [
    "RocCurveDisplay.from_estimator(logreg_clf,X_test,y_test)"
   ]
  },
  {
   "cell_type": "markdown",
   "metadata": {},
   "source": [
    "AUC refers to \"area under the curve\". It measures the area under the TPR-FPR curve."
   ]
  },
  {
   "cell_type": "markdown",
   "metadata": {},
   "source": [
    "If all we need is the AUC, we don't need to compute the ROC curve first. \n",
    "We can take a shortcut and use the `roc_auc_score` function from Scikit-learn."
   ]
  },
  {
   "cell_type": "code",
   "execution_count": null,
   "metadata": {},
   "outputs": [],
   "source": [
    "from sklearn.metrics import roc_auc_score\n",
    "roc_auc_score(y_test,proba)"
   ]
  },
  {
   "cell_type": "markdown",
   "metadata": {},
   "source": [
    "| AUC | Model performance |\n",
    "| - | - |\n",
    "| 0.5 | random |\n",
    "| 0.6 | poor |\n",
    "| 0.7 | weak |\n",
    "| 0.8 | decent |\n",
    "| 0.9 | good |\n",
    "| 1.0 | perfect |"
   ]
  }
 ],
 "metadata": {
  "kernelspec": {
   "display_name": "Python 3 (ipykernel)",
   "language": "python",
   "name": "python3"
  },
  "language_info": {
   "codemirror_mode": {
    "name": "ipython",
    "version": 3
   },
   "file_extension": ".py",
   "mimetype": "text/x-python",
   "name": "python",
   "nbconvert_exporter": "python",
   "pygments_lexer": "ipython3",
   "version": "3.9.12"
  }
 },
 "nbformat": 4,
 "nbformat_minor": 4
}
