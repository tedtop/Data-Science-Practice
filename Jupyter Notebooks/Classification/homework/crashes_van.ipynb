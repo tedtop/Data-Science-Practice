{
 "cells": [
  {
   "cell_type": "code",
   "execution_count": 1,
   "id": "5c0eab8e",
   "metadata": {},
   "outputs": [],
   "source": [
    "import numpy as np\n",
    "import pandas as pd\n",
    "import matplotlib.pyplot as plt"
   ]
  },
  {
   "cell_type": "markdown",
   "id": "5f28abec",
   "metadata": {},
   "source": [
    "## Chicago traffic crashes prediction"
   ]
  },
  {
   "cell_type": "markdown",
   "id": "37883f82",
   "metadata": {},
   "source": [
    "You've been given a crucial role as a data scientist for Chicago. \n",
    "Your job is to predict which accidents might require a response, like medical aid, towing, or both.\n",
    "You'll analyze factors like accident location, road conditions, speed limits, and time. \n",
    "Chicago wants to use this information to better allocate its resources, considering factors like weather and time of day."
   ]
  },
  {
   "cell_type": "markdown",
   "id": "1fcbe85f",
   "metadata": {},
   "source": [
    "**Note**: This dataset is a small subset of the one available at the [Chicago Data Portal](https://data.cityofchicago.org/). \n",
    "We've chosen this subset because you'll be using a `KNeighborsClassifier`, which performs efficiently with small to medium-sized datasets but can be quite slow with larger ones. \n",
    "In future assignments, you'll work with the entire dataset."
   ]
  },
  {
   "cell_type": "code",
   "execution_count": 57,
   "id": "f2accca0",
   "metadata": {},
   "outputs": [
    {
     "data": {
      "text/html": [
       "<div>\n",
       "<style scoped>\n",
       "    .dataframe tbody tr th:only-of-type {\n",
       "        vertical-align: middle;\n",
       "    }\n",
       "\n",
       "    .dataframe tbody tr th {\n",
       "        vertical-align: top;\n",
       "    }\n",
       "\n",
       "    .dataframe thead th {\n",
       "        text-align: right;\n",
       "    }\n",
       "</style>\n",
       "<table border=\"1\" class=\"dataframe\">\n",
       "  <thead>\n",
       "    <tr style=\"text-align: right;\">\n",
       "      <th></th>\n",
       "      <th>CRASH_RECORD_ID</th>\n",
       "      <th>RD_NO</th>\n",
       "      <th>CRASH_DATE_EST_I</th>\n",
       "      <th>CRASH_DATE</th>\n",
       "      <th>POSTED_SPEED_LIMIT</th>\n",
       "      <th>TRAFFIC_CONTROL_DEVICE</th>\n",
       "      <th>DEVICE_CONDITION</th>\n",
       "      <th>WEATHER_CONDITION</th>\n",
       "      <th>LIGHTING_CONDITION</th>\n",
       "      <th>FIRST_CRASH_TYPE</th>\n",
       "      <th>...</th>\n",
       "      <th>INJURIES_REPORTED_NOT_EVIDENT</th>\n",
       "      <th>INJURIES_NO_INDICATION</th>\n",
       "      <th>INJURIES_UNKNOWN</th>\n",
       "      <th>CRASH_HOUR</th>\n",
       "      <th>CRASH_DAY_OF_WEEK</th>\n",
       "      <th>CRASH_MONTH</th>\n",
       "      <th>LATITUDE</th>\n",
       "      <th>LONGITUDE</th>\n",
       "      <th>LOCATION</th>\n",
       "      <th>YEAR</th>\n",
       "    </tr>\n",
       "  </thead>\n",
       "  <tbody>\n",
       "    <tr>\n",
       "      <th>0</th>\n",
       "      <td>a0cdc2e317e24a87ffb5ed39a0f1ab99054fe04167615b...</td>\n",
       "      <td>JG205578</td>\n",
       "      <td>NaN</td>\n",
       "      <td>2023-03-31 07:34:00</td>\n",
       "      <td>30</td>\n",
       "      <td>TRAFFIC SIGNAL</td>\n",
       "      <td>FUNCTIONING PROPERLY</td>\n",
       "      <td>RAIN</td>\n",
       "      <td>DAYLIGHT</td>\n",
       "      <td>REAR END</td>\n",
       "      <td>...</td>\n",
       "      <td>0.0</td>\n",
       "      <td>2.0</td>\n",
       "      <td>0.0</td>\n",
       "      <td>7</td>\n",
       "      <td>6</td>\n",
       "      <td>3</td>\n",
       "      <td>41.909494</td>\n",
       "      <td>-87.747824</td>\n",
       "      <td>POINT (-87.747823796021 41.909493550808)</td>\n",
       "      <td>2023</td>\n",
       "    </tr>\n",
       "    <tr>\n",
       "      <th>1</th>\n",
       "      <td>00e93310a117dc0228ee5e00affc77ab0bd3334e54db75...</td>\n",
       "      <td>JG317047</td>\n",
       "      <td>NaN</td>\n",
       "      <td>2023-06-26 16:15:00</td>\n",
       "      <td>20</td>\n",
       "      <td>NO CONTROLS</td>\n",
       "      <td>NO CONTROLS</td>\n",
       "      <td>CLEAR</td>\n",
       "      <td>DAYLIGHT</td>\n",
       "      <td>SIDESWIPE SAME DIRECTION</td>\n",
       "      <td>...</td>\n",
       "      <td>0.0</td>\n",
       "      <td>2.0</td>\n",
       "      <td>0.0</td>\n",
       "      <td>16</td>\n",
       "      <td>2</td>\n",
       "      <td>6</td>\n",
       "      <td>NaN</td>\n",
       "      <td>NaN</td>\n",
       "      <td>NaN</td>\n",
       "      <td>2023</td>\n",
       "    </tr>\n",
       "    <tr>\n",
       "      <th>2</th>\n",
       "      <td>07c772b5d5b0264284f35a7769114ae681037a123d9872...</td>\n",
       "      <td>JG214567</td>\n",
       "      <td>NaN</td>\n",
       "      <td>2023-04-07 17:15:00</td>\n",
       "      <td>15</td>\n",
       "      <td>NO CONTROLS</td>\n",
       "      <td>NO CONTROLS</td>\n",
       "      <td>CLEAR</td>\n",
       "      <td>DAYLIGHT</td>\n",
       "      <td>ANGLE</td>\n",
       "      <td>...</td>\n",
       "      <td>0.0</td>\n",
       "      <td>2.0</td>\n",
       "      <td>0.0</td>\n",
       "      <td>17</td>\n",
       "      <td>6</td>\n",
       "      <td>4</td>\n",
       "      <td>41.834402</td>\n",
       "      <td>-87.616894</td>\n",
       "      <td>POINT (-87.61689418428 41.834401691989)</td>\n",
       "      <td>2023</td>\n",
       "    </tr>\n",
       "    <tr>\n",
       "      <th>3</th>\n",
       "      <td>4d0d885dfa2da00a8d196c58a8d4f249c3c697fb478ecb...</td>\n",
       "      <td>JG138027</td>\n",
       "      <td>NaN</td>\n",
       "      <td>2023-02-01 16:00:00</td>\n",
       "      <td>30</td>\n",
       "      <td>NO CONTROLS</td>\n",
       "      <td>NO CONTROLS</td>\n",
       "      <td>CLEAR</td>\n",
       "      <td>DAYLIGHT</td>\n",
       "      <td>REAR END</td>\n",
       "      <td>...</td>\n",
       "      <td>0.0</td>\n",
       "      <td>2.0</td>\n",
       "      <td>0.0</td>\n",
       "      <td>16</td>\n",
       "      <td>4</td>\n",
       "      <td>2</td>\n",
       "      <td>41.962140</td>\n",
       "      <td>-87.645937</td>\n",
       "      <td>POINT (-87.645936592224 41.962140154293)</td>\n",
       "      <td>2023</td>\n",
       "    </tr>\n",
       "    <tr>\n",
       "      <th>4</th>\n",
       "      <td>2630202e4794a8b4dd665b5ad172b09f0be849937eb5f7...</td>\n",
       "      <td>JG167558</td>\n",
       "      <td>NaN</td>\n",
       "      <td>2023-02-27 09:55:00</td>\n",
       "      <td>30</td>\n",
       "      <td>TRAFFIC SIGNAL</td>\n",
       "      <td>FUNCTIONING PROPERLY</td>\n",
       "      <td>RAIN</td>\n",
       "      <td>DARKNESS, LIGHTED ROAD</td>\n",
       "      <td>SIDESWIPE SAME DIRECTION</td>\n",
       "      <td>...</td>\n",
       "      <td>0.0</td>\n",
       "      <td>2.0</td>\n",
       "      <td>0.0</td>\n",
       "      <td>9</td>\n",
       "      <td>2</td>\n",
       "      <td>2</td>\n",
       "      <td>41.891604</td>\n",
       "      <td>-87.625307</td>\n",
       "      <td>POINT (-87.625306944978 41.89160410607)</td>\n",
       "      <td>2023</td>\n",
       "    </tr>\n",
       "    <tr>\n",
       "      <th>...</th>\n",
       "      <td>...</td>\n",
       "      <td>...</td>\n",
       "      <td>...</td>\n",
       "      <td>...</td>\n",
       "      <td>...</td>\n",
       "      <td>...</td>\n",
       "      <td>...</td>\n",
       "      <td>...</td>\n",
       "      <td>...</td>\n",
       "      <td>...</td>\n",
       "      <td>...</td>\n",
       "      <td>...</td>\n",
       "      <td>...</td>\n",
       "      <td>...</td>\n",
       "      <td>...</td>\n",
       "      <td>...</td>\n",
       "      <td>...</td>\n",
       "      <td>...</td>\n",
       "      <td>...</td>\n",
       "      <td>...</td>\n",
       "      <td>...</td>\n",
       "    </tr>\n",
       "    <tr>\n",
       "      <th>12974</th>\n",
       "      <td>39e3191301443098210c420c84157dec9a9fcd3b982f51...</td>\n",
       "      <td>JG271497</td>\n",
       "      <td>Y</td>\n",
       "      <td>2023-05-23 08:41:00</td>\n",
       "      <td>25</td>\n",
       "      <td>TRAFFIC SIGNAL</td>\n",
       "      <td>FUNCTIONING PROPERLY</td>\n",
       "      <td>CLEAR</td>\n",
       "      <td>DAYLIGHT</td>\n",
       "      <td>SIDESWIPE SAME DIRECTION</td>\n",
       "      <td>...</td>\n",
       "      <td>0.0</td>\n",
       "      <td>2.0</td>\n",
       "      <td>0.0</td>\n",
       "      <td>8</td>\n",
       "      <td>3</td>\n",
       "      <td>5</td>\n",
       "      <td>41.707211</td>\n",
       "      <td>-87.628239</td>\n",
       "      <td>POINT (-87.628239101889 41.707211473793)</td>\n",
       "      <td>2023</td>\n",
       "    </tr>\n",
       "    <tr>\n",
       "      <th>12975</th>\n",
       "      <td>ee4a15023569327d9ac20fe8a06dbc79aa4e353c7dcdf9...</td>\n",
       "      <td>JG232982</td>\n",
       "      <td>NaN</td>\n",
       "      <td>2023-04-21 21:15:00</td>\n",
       "      <td>30</td>\n",
       "      <td>NO CONTROLS</td>\n",
       "      <td>NO CONTROLS</td>\n",
       "      <td>CLEAR</td>\n",
       "      <td>DARKNESS, LIGHTED ROAD</td>\n",
       "      <td>PARKED MOTOR VEHICLE</td>\n",
       "      <td>...</td>\n",
       "      <td>0.0</td>\n",
       "      <td>1.0</td>\n",
       "      <td>0.0</td>\n",
       "      <td>21</td>\n",
       "      <td>6</td>\n",
       "      <td>4</td>\n",
       "      <td>41.659773</td>\n",
       "      <td>-87.636651</td>\n",
       "      <td>POINT (-87.636650606697 41.659773314849)</td>\n",
       "      <td>2023</td>\n",
       "    </tr>\n",
       "    <tr>\n",
       "      <th>12976</th>\n",
       "      <td>a0e267ee446b134cbdab5b9ae1f64c698a622c87984768...</td>\n",
       "      <td>JG424169</td>\n",
       "      <td>NaN</td>\n",
       "      <td>2023-09-14 15:15:00</td>\n",
       "      <td>30</td>\n",
       "      <td>NO CONTROLS</td>\n",
       "      <td>NO CONTROLS</td>\n",
       "      <td>CLEAR</td>\n",
       "      <td>DAYLIGHT</td>\n",
       "      <td>REAR END</td>\n",
       "      <td>...</td>\n",
       "      <td>0.0</td>\n",
       "      <td>2.0</td>\n",
       "      <td>0.0</td>\n",
       "      <td>15</td>\n",
       "      <td>5</td>\n",
       "      <td>9</td>\n",
       "      <td>41.793506</td>\n",
       "      <td>-87.711398</td>\n",
       "      <td>POINT (-87.711398027946 41.793506266409)</td>\n",
       "      <td>2023</td>\n",
       "    </tr>\n",
       "    <tr>\n",
       "      <th>12977</th>\n",
       "      <td>9316f75a7f7d6aee7380b7347705907c336b427cea5898...</td>\n",
       "      <td>NaN</td>\n",
       "      <td>NaN</td>\n",
       "      <td>2023-10-11 08:51:00</td>\n",
       "      <td>30</td>\n",
       "      <td>TRAFFIC SIGNAL</td>\n",
       "      <td>FUNCTIONING PROPERLY</td>\n",
       "      <td>CLEAR</td>\n",
       "      <td>DAYLIGHT</td>\n",
       "      <td>TURNING</td>\n",
       "      <td>...</td>\n",
       "      <td>0.0</td>\n",
       "      <td>2.0</td>\n",
       "      <td>0.0</td>\n",
       "      <td>8</td>\n",
       "      <td>4</td>\n",
       "      <td>10</td>\n",
       "      <td>41.799679</td>\n",
       "      <td>-87.733000</td>\n",
       "      <td>POINT (-87.732999967493 41.799679470254)</td>\n",
       "      <td>2023</td>\n",
       "    </tr>\n",
       "    <tr>\n",
       "      <th>12978</th>\n",
       "      <td>4512c929e86341dcbff334af488177cbd890d2a4a4ef4c...</td>\n",
       "      <td>JG119049</td>\n",
       "      <td>NaN</td>\n",
       "      <td>2023-01-17 07:30:00</td>\n",
       "      <td>30</td>\n",
       "      <td>NO CONTROLS</td>\n",
       "      <td>NO CONTROLS</td>\n",
       "      <td>CLEAR</td>\n",
       "      <td>DAYLIGHT</td>\n",
       "      <td>PARKED MOTOR VEHICLE</td>\n",
       "      <td>...</td>\n",
       "      <td>0.0</td>\n",
       "      <td>4.0</td>\n",
       "      <td>0.0</td>\n",
       "      <td>7</td>\n",
       "      <td>3</td>\n",
       "      <td>1</td>\n",
       "      <td>41.943052</td>\n",
       "      <td>-87.693844</td>\n",
       "      <td>POINT (-87.693844426951 41.943052041089)</td>\n",
       "      <td>2023</td>\n",
       "    </tr>\n",
       "  </tbody>\n",
       "</table>\n",
       "<p>12979 rows × 50 columns</p>\n",
       "</div>"
      ],
      "text/plain": [
       "                                         CRASH_RECORD_ID     RD_NO  \\\n",
       "0      a0cdc2e317e24a87ffb5ed39a0f1ab99054fe04167615b...  JG205578   \n",
       "1      00e93310a117dc0228ee5e00affc77ab0bd3334e54db75...  JG317047   \n",
       "2      07c772b5d5b0264284f35a7769114ae681037a123d9872...  JG214567   \n",
       "3      4d0d885dfa2da00a8d196c58a8d4f249c3c697fb478ecb...  JG138027   \n",
       "4      2630202e4794a8b4dd665b5ad172b09f0be849937eb5f7...  JG167558   \n",
       "...                                                  ...       ...   \n",
       "12974  39e3191301443098210c420c84157dec9a9fcd3b982f51...  JG271497   \n",
       "12975  ee4a15023569327d9ac20fe8a06dbc79aa4e353c7dcdf9...  JG232982   \n",
       "12976  a0e267ee446b134cbdab5b9ae1f64c698a622c87984768...  JG424169   \n",
       "12977  9316f75a7f7d6aee7380b7347705907c336b427cea5898...       NaN   \n",
       "12978  4512c929e86341dcbff334af488177cbd890d2a4a4ef4c...  JG119049   \n",
       "\n",
       "      CRASH_DATE_EST_I           CRASH_DATE  POSTED_SPEED_LIMIT  \\\n",
       "0                  NaN  2023-03-31 07:34:00                  30   \n",
       "1                  NaN  2023-06-26 16:15:00                  20   \n",
       "2                  NaN  2023-04-07 17:15:00                  15   \n",
       "3                  NaN  2023-02-01 16:00:00                  30   \n",
       "4                  NaN  2023-02-27 09:55:00                  30   \n",
       "...                ...                  ...                 ...   \n",
       "12974                Y  2023-05-23 08:41:00                  25   \n",
       "12975              NaN  2023-04-21 21:15:00                  30   \n",
       "12976              NaN  2023-09-14 15:15:00                  30   \n",
       "12977              NaN  2023-10-11 08:51:00                  30   \n",
       "12978              NaN  2023-01-17 07:30:00                  30   \n",
       "\n",
       "      TRAFFIC_CONTROL_DEVICE      DEVICE_CONDITION WEATHER_CONDITION  \\\n",
       "0             TRAFFIC SIGNAL  FUNCTIONING PROPERLY              RAIN   \n",
       "1                NO CONTROLS           NO CONTROLS             CLEAR   \n",
       "2                NO CONTROLS           NO CONTROLS             CLEAR   \n",
       "3                NO CONTROLS           NO CONTROLS             CLEAR   \n",
       "4             TRAFFIC SIGNAL  FUNCTIONING PROPERLY              RAIN   \n",
       "...                      ...                   ...               ...   \n",
       "12974         TRAFFIC SIGNAL  FUNCTIONING PROPERLY             CLEAR   \n",
       "12975            NO CONTROLS           NO CONTROLS             CLEAR   \n",
       "12976            NO CONTROLS           NO CONTROLS             CLEAR   \n",
       "12977         TRAFFIC SIGNAL  FUNCTIONING PROPERLY             CLEAR   \n",
       "12978            NO CONTROLS           NO CONTROLS             CLEAR   \n",
       "\n",
       "           LIGHTING_CONDITION          FIRST_CRASH_TYPE  ...  \\\n",
       "0                    DAYLIGHT                  REAR END  ...   \n",
       "1                    DAYLIGHT  SIDESWIPE SAME DIRECTION  ...   \n",
       "2                    DAYLIGHT                     ANGLE  ...   \n",
       "3                    DAYLIGHT                  REAR END  ...   \n",
       "4      DARKNESS, LIGHTED ROAD  SIDESWIPE SAME DIRECTION  ...   \n",
       "...                       ...                       ...  ...   \n",
       "12974                DAYLIGHT  SIDESWIPE SAME DIRECTION  ...   \n",
       "12975  DARKNESS, LIGHTED ROAD      PARKED MOTOR VEHICLE  ...   \n",
       "12976                DAYLIGHT                  REAR END  ...   \n",
       "12977                DAYLIGHT                   TURNING  ...   \n",
       "12978                DAYLIGHT      PARKED MOTOR VEHICLE  ...   \n",
       "\n",
       "      INJURIES_REPORTED_NOT_EVIDENT  INJURIES_NO_INDICATION INJURIES_UNKNOWN  \\\n",
       "0                               0.0                     2.0              0.0   \n",
       "1                               0.0                     2.0              0.0   \n",
       "2                               0.0                     2.0              0.0   \n",
       "3                               0.0                     2.0              0.0   \n",
       "4                               0.0                     2.0              0.0   \n",
       "...                             ...                     ...              ...   \n",
       "12974                           0.0                     2.0              0.0   \n",
       "12975                           0.0                     1.0              0.0   \n",
       "12976                           0.0                     2.0              0.0   \n",
       "12977                           0.0                     2.0              0.0   \n",
       "12978                           0.0                     4.0              0.0   \n",
       "\n",
       "      CRASH_HOUR CRASH_DAY_OF_WEEK CRASH_MONTH   LATITUDE  LONGITUDE  \\\n",
       "0              7                 6           3  41.909494 -87.747824   \n",
       "1             16                 2           6        NaN        NaN   \n",
       "2             17                 6           4  41.834402 -87.616894   \n",
       "3             16                 4           2  41.962140 -87.645937   \n",
       "4              9                 2           2  41.891604 -87.625307   \n",
       "...          ...               ...         ...        ...        ...   \n",
       "12974          8                 3           5  41.707211 -87.628239   \n",
       "12975         21                 6           4  41.659773 -87.636651   \n",
       "12976         15                 5           9  41.793506 -87.711398   \n",
       "12977          8                 4          10  41.799679 -87.733000   \n",
       "12978          7                 3           1  41.943052 -87.693844   \n",
       "\n",
       "                                       LOCATION  YEAR  \n",
       "0      POINT (-87.747823796021 41.909493550808)  2023  \n",
       "1                                           NaN  2023  \n",
       "2       POINT (-87.61689418428 41.834401691989)  2023  \n",
       "3      POINT (-87.645936592224 41.962140154293)  2023  \n",
       "4       POINT (-87.625306944978 41.89160410607)  2023  \n",
       "...                                         ...   ...  \n",
       "12974  POINT (-87.628239101889 41.707211473793)  2023  \n",
       "12975  POINT (-87.636650606697 41.659773314849)  2023  \n",
       "12976  POINT (-87.711398027946 41.793506266409)  2023  \n",
       "12977  POINT (-87.732999967493 41.799679470254)  2023  \n",
       "12978  POINT (-87.693844426951 41.943052041089)  2023  \n",
       "\n",
       "[12979 rows x 50 columns]"
      ]
     },
     "execution_count": 57,
     "metadata": {},
     "output_type": "execute_result"
    }
   ],
   "source": [
    "# load data\n",
    "url = 'https://raw.githubusercontent.com/um-perez-alvaro/Data-Science-Practice/master/Data/traffic_crashes_Chicago.csv'\n",
    "data = pd.read_csv(url)\n",
    "data"
   ]
  },
  {
   "cell_type": "code",
   "execution_count": 59,
   "id": "5f3a6e94",
   "metadata": {},
   "outputs": [
    {
     "data": {
      "text/plain": [
       "Index(['CRASH_RECORD_ID', 'RD_NO', 'CRASH_DATE_EST_I', 'CRASH_DATE',\n",
       "       'POSTED_SPEED_LIMIT', 'TRAFFIC_CONTROL_DEVICE', 'DEVICE_CONDITION',\n",
       "       'WEATHER_CONDITION', 'LIGHTING_CONDITION', 'FIRST_CRASH_TYPE',\n",
       "       'TRAFFICWAY_TYPE', 'LANE_CNT', 'ALIGNMENT', 'ROADWAY_SURFACE_COND',\n",
       "       'ROAD_DEFECT', 'REPORT_TYPE', 'CRASH_TYPE', 'INTERSECTION_RELATED_I',\n",
       "       'NOT_RIGHT_OF_WAY_I', 'HIT_AND_RUN_I', 'DAMAGE', 'DATE_POLICE_NOTIFIED',\n",
       "       'PRIM_CONTRIBUTORY_CAUSE', 'SEC_CONTRIBUTORY_CAUSE', 'STREET_NO',\n",
       "       'STREET_DIRECTION', 'STREET_NAME', 'BEAT_OF_OCCURRENCE',\n",
       "       'PHOTOS_TAKEN_I', 'STATEMENTS_TAKEN_I', 'DOORING_I', 'WORK_ZONE_I',\n",
       "       'WORK_ZONE_TYPE', 'WORKERS_PRESENT_I', 'NUM_UNITS',\n",
       "       'MOST_SEVERE_INJURY', 'INJURIES_TOTAL', 'INJURIES_FATAL',\n",
       "       'INJURIES_INCAPACITATING', 'INJURIES_NON_INCAPACITATING',\n",
       "       'INJURIES_REPORTED_NOT_EVIDENT', 'INJURIES_NO_INDICATION',\n",
       "       'INJURIES_UNKNOWN', 'CRASH_HOUR', 'CRASH_DAY_OF_WEEK', 'CRASH_MONTH',\n",
       "       'LATITUDE', 'LONGITUDE', 'LOCATION', 'YEAR'],\n",
       "      dtype='object')"
      ]
     },
     "execution_count": 59,
     "metadata": {},
     "output_type": "execute_result"
    }
   ],
   "source": [
    "data.columns"
   ]
  },
  {
   "cell_type": "markdown",
   "id": "f8bfdb40",
   "metadata": {},
   "source": [
    "Train, fine-tune, and test a `KNeighborsClassifier` model for predicting the `CRASH_TYPE` column in the dataset. Create a brief report summarizing your findings for the city of Chicago."
   ]
  },
  {
   "cell_type": "code",
   "execution_count": 4,
   "id": "a0e445b5",
   "metadata": {},
   "outputs": [
    {
     "data": {
      "text/plain": [
       "Y    791\n",
       "N    126\n",
       "Name: CRASH_DATE_EST_I, dtype: int64"
      ]
     },
     "execution_count": 4,
     "metadata": {},
     "output_type": "execute_result"
    }
   ],
   "source": [
    "data.CRASH_DATE_EST_I.value_counts()"
   ]
  },
  {
   "cell_type": "code",
   "execution_count": 5,
   "id": "622d02a6",
   "metadata": {},
   "outputs": [
    {
     "data": {
      "text/plain": [
       "0        NaN\n",
       "1        NaN\n",
       "2        NaN\n",
       "3        NaN\n",
       "4        NaN\n",
       "        ... \n",
       "12974      Y\n",
       "12975    NaN\n",
       "12976    NaN\n",
       "12977    NaN\n",
       "12978    NaN\n",
       "Name: CRASH_DATE_EST_I, Length: 12979, dtype: object"
      ]
     },
     "execution_count": 5,
     "metadata": {},
     "output_type": "execute_result"
    }
   ],
   "source": [
    "data.CRASH_DATE_EST_I"
   ]
  },
  {
   "cell_type": "markdown",
   "id": "967dab66",
   "metadata": {},
   "source": [
    "I'll drop columns RD_NO and CRASH_RECORD_ID because they are unlikely to predict anything about the crash, given that they are labels. I further drop CRASH_DATE_EST_I because it is full of NaN's and I don't know what it means. We drop LOCATION because it is indicated by LATITUDE and LONGITUDE. Similarly, we drop CRASH_DATE in favor of using CRASH_HOUR, and other date-related columns due to difficulty in encoding."
   ]
  },
  {
   "cell_type": "code",
   "execution_count": 88,
   "id": "704fb6df",
   "metadata": {},
   "outputs": [],
   "source": [
    "drop_cols = ['CRASH_TYPE','CRASH_DATE', 'CRASH_DATE_EST_I', 'RD_NO', 'CRASH_RECORD_ID', 'BEAT_OF_OCCURRENCE','DATE_POLICE_NOTIFIED','LOCATION']"
   ]
  },
  {
   "cell_type": "code",
   "execution_count": 89,
   "id": "1952d2f4",
   "metadata": {},
   "outputs": [],
   "source": [
    "X= data.drop(drop_cols, axis=1)"
   ]
  },
  {
   "cell_type": "code",
   "execution_count": 90,
   "id": "48497d90",
   "metadata": {},
   "outputs": [],
   "source": [
    "y = data.CRASH_TYPE"
   ]
  },
  {
   "cell_type": "code",
   "execution_count": 91,
   "id": "7a403346",
   "metadata": {},
   "outputs": [],
   "source": [
    "# train test split\n",
    "from sklearn.model_selection import train_test_split\n",
    "X_train,X_test,y_train,y_test = train_test_split(X,y)"
   ]
  },
  {
   "cell_type": "code",
   "execution_count": 92,
   "id": "585917b5",
   "metadata": {},
   "outputs": [],
   "source": [
    "from sklearn.neighbors import KNeighborsClassifier\n",
    "\n",
    "knn_clf = KNeighborsClassifier()"
   ]
  },
  {
   "cell_type": "code",
   "execution_count": 93,
   "id": "3c8d3a5b",
   "metadata": {},
   "outputs": [],
   "source": [
    "# import stuff for pipeline\n",
    "\n",
    "#Preprocessing \n",
    "from sklearn.impute import SimpleImputer\n",
    "from sklearn.preprocessing import StandardScaler, OneHotEncoder, PolynomialFeatures\n",
    "\n",
    "# Pipeline\n",
    "from sklearn.pipeline import Pipeline   # Sequentially apply a list of transformations\n",
    "from sklearn.compose import ColumnTransformer # Applies in parallel transformations to columns\n",
    "from sklearn.preprocessing import FunctionTransformer # it makes functions compatible with scikit-learn pipelines\n",
    "\n",
    "# Grid search \n",
    "from sklearn.model_selection import GridSearchCV"
   ]
  },
  {
   "cell_type": "code",
   "execution_count": 103,
   "id": "ff15e124",
   "metadata": {},
   "outputs": [
    {
     "data": {
      "text/plain": [
       "42"
      ]
     },
     "execution_count": 103,
     "metadata": {},
     "output_type": "execute_result"
    }
   ],
   "source": [
    "len(X.dtypes)"
   ]
  },
  {
   "cell_type": "code",
   "execution_count": 113,
   "id": "6e36a3c8",
   "metadata": {},
   "outputs": [],
   "source": [
    "nums = X.dtypes[(X.dtypes == 'float64') | (X.dtypes == 'int64')]"
   ]
  },
  {
   "cell_type": "code",
   "execution_count": 115,
   "id": "720ab215",
   "metadata": {},
   "outputs": [],
   "source": [
    "cats = X.dtypes[(X.dtypes != 'float64') & (X.dtypes != 'int64')]"
   ]
  },
  {
   "cell_type": "code",
   "execution_count": 116,
   "id": "487cc361",
   "metadata": {},
   "outputs": [],
   "source": [
    "# numerical features pipeline: impute+scale\n",
    "numeric_features = [feature for feature in nums.index]\n",
    "numeric_processor = Pipeline(steps=[\n",
    "    ('imputer', SimpleImputer(strategy='median')),\n",
    "    ('scaler', StandardScaler())\n",
    "    ])"
   ]
  },
  {
   "cell_type": "code",
   "execution_count": 134,
   "id": "2992df1c",
   "metadata": {},
   "outputs": [],
   "source": [
    "\n",
    "\n",
    "# categorical_features pipeline: impute+encode\n",
    "categorical_features = [i for i in cats.index]\n",
    "categorical_processor = Pipeline(steps=[\n",
    "    ('imputer', SimpleImputer(strategy='most_frequent')),\n",
    "    ('encoder', OneHotEncoder(handle_unknown='ignore'))])\n",
    "\n"
   ]
  },
  {
   "cell_type": "code",
   "execution_count": 135,
   "id": "bcdc260f",
   "metadata": {},
   "outputs": [
    {
     "data": {
      "text/plain": [
       "25"
      ]
     },
     "execution_count": 135,
     "metadata": {},
     "output_type": "execute_result"
    }
   ],
   "source": [
    "len(categorical_features)"
   ]
  },
  {
   "cell_type": "code",
   "execution_count": 136,
   "id": "441dab0d",
   "metadata": {},
   "outputs": [
    {
     "data": {
      "text/plain": [
       "17"
      ]
     },
     "execution_count": 136,
     "metadata": {},
     "output_type": "execute_result"
    }
   ],
   "source": [
    "len(numeric_features)"
   ]
  },
  {
   "cell_type": "code",
   "execution_count": 137,
   "id": "1c73d3a9",
   "metadata": {},
   "outputs": [],
   "source": [
    "feature_processor = ColumnTransformer(\n",
    "    transformers=[\n",
    "        ('num', numeric_processor, numeric_features),\n",
    "        ('cat', categorical_processor, categorical_features)\n",
    "    ],\n",
    "         remainder='drop')"
   ]
  },
  {
   "cell_type": "code",
   "execution_count": 138,
   "id": "c41521d4",
   "metadata": {},
   "outputs": [],
   "source": [
    "pipe = Pipeline(steps=[\n",
    "    ('preprocessor', feature_processor),\n",
    "    #('poly_features', PolynomialFeatures(degree=2)),\n",
    "    ('clf',knn_clf)\n",
    "])"
   ]
  },
  {
   "cell_type": "code",
   "execution_count": 139,
   "id": "e49bab96",
   "metadata": {},
   "outputs": [
    {
     "data": {
      "text/html": [
       "<style>#sk-container-id-14 {color: black;background-color: white;}#sk-container-id-14 pre{padding: 0;}#sk-container-id-14 div.sk-toggleable {background-color: white;}#sk-container-id-14 label.sk-toggleable__label {cursor: pointer;display: block;width: 100%;margin-bottom: 0;padding: 0.3em;box-sizing: border-box;text-align: center;}#sk-container-id-14 label.sk-toggleable__label-arrow:before {content: \"▸\";float: left;margin-right: 0.25em;color: #696969;}#sk-container-id-14 label.sk-toggleable__label-arrow:hover:before {color: black;}#sk-container-id-14 div.sk-estimator:hover label.sk-toggleable__label-arrow:before {color: black;}#sk-container-id-14 div.sk-toggleable__content {max-height: 0;max-width: 0;overflow: hidden;text-align: left;background-color: #f0f8ff;}#sk-container-id-14 div.sk-toggleable__content pre {margin: 0.2em;color: black;border-radius: 0.25em;background-color: #f0f8ff;}#sk-container-id-14 input.sk-toggleable__control:checked~div.sk-toggleable__content {max-height: 200px;max-width: 100%;overflow: auto;}#sk-container-id-14 input.sk-toggleable__control:checked~label.sk-toggleable__label-arrow:before {content: \"▾\";}#sk-container-id-14 div.sk-estimator input.sk-toggleable__control:checked~label.sk-toggleable__label {background-color: #d4ebff;}#sk-container-id-14 div.sk-label input.sk-toggleable__control:checked~label.sk-toggleable__label {background-color: #d4ebff;}#sk-container-id-14 input.sk-hidden--visually {border: 0;clip: rect(1px 1px 1px 1px);clip: rect(1px, 1px, 1px, 1px);height: 1px;margin: -1px;overflow: hidden;padding: 0;position: absolute;width: 1px;}#sk-container-id-14 div.sk-estimator {font-family: monospace;background-color: #f0f8ff;border: 1px dotted black;border-radius: 0.25em;box-sizing: border-box;margin-bottom: 0.5em;}#sk-container-id-14 div.sk-estimator:hover {background-color: #d4ebff;}#sk-container-id-14 div.sk-parallel-item::after {content: \"\";width: 100%;border-bottom: 1px solid gray;flex-grow: 1;}#sk-container-id-14 div.sk-label:hover label.sk-toggleable__label {background-color: #d4ebff;}#sk-container-id-14 div.sk-serial::before {content: \"\";position: absolute;border-left: 1px solid gray;box-sizing: border-box;top: 0;bottom: 0;left: 50%;z-index: 0;}#sk-container-id-14 div.sk-serial {display: flex;flex-direction: column;align-items: center;background-color: white;padding-right: 0.2em;padding-left: 0.2em;position: relative;}#sk-container-id-14 div.sk-item {position: relative;z-index: 1;}#sk-container-id-14 div.sk-parallel {display: flex;align-items: stretch;justify-content: center;background-color: white;position: relative;}#sk-container-id-14 div.sk-item::before, #sk-container-id-14 div.sk-parallel-item::before {content: \"\";position: absolute;border-left: 1px solid gray;box-sizing: border-box;top: 0;bottom: 0;left: 50%;z-index: -1;}#sk-container-id-14 div.sk-parallel-item {display: flex;flex-direction: column;z-index: 1;position: relative;background-color: white;}#sk-container-id-14 div.sk-parallel-item:first-child::after {align-self: flex-end;width: 50%;}#sk-container-id-14 div.sk-parallel-item:last-child::after {align-self: flex-start;width: 50%;}#sk-container-id-14 div.sk-parallel-item:only-child::after {width: 0;}#sk-container-id-14 div.sk-dashed-wrapped {border: 1px dashed gray;margin: 0 0.4em 0.5em 0.4em;box-sizing: border-box;padding-bottom: 0.4em;background-color: white;}#sk-container-id-14 div.sk-label label {font-family: monospace;font-weight: bold;display: inline-block;line-height: 1.2em;}#sk-container-id-14 div.sk-label-container {text-align: center;}#sk-container-id-14 div.sk-container {/* jupyter's `normalize.less` sets `[hidden] { display: none; }` but bootstrap.min.css set `[hidden] { display: none !important; }` so we also need the `!important` here to be able to override the default hidden behavior on the sphinx rendered scikit-learn.org. See: https://github.com/scikit-learn/scikit-learn/issues/21755 */display: inline-block !important;position: relative;}#sk-container-id-14 div.sk-text-repr-fallback {display: none;}</style><div id=\"sk-container-id-14\" class=\"sk-top-container\"><div class=\"sk-text-repr-fallback\"><pre>Pipeline(steps=[(&#x27;preprocessor&#x27;,\n",
       "                 ColumnTransformer(transformers=[(&#x27;num&#x27;,\n",
       "                                                  Pipeline(steps=[(&#x27;imputer&#x27;,\n",
       "                                                                   SimpleImputer(strategy=&#x27;median&#x27;)),\n",
       "                                                                  (&#x27;scaler&#x27;,\n",
       "                                                                   StandardScaler())]),\n",
       "                                                  [&#x27;POSTED_SPEED_LIMIT&#x27;,\n",
       "                                                   &#x27;LANE_CNT&#x27;, &#x27;STREET_NO&#x27;,\n",
       "                                                   &#x27;NUM_UNITS&#x27;,\n",
       "                                                   &#x27;INJURIES_TOTAL&#x27;,\n",
       "                                                   &#x27;INJURIES_FATAL&#x27;,\n",
       "                                                   &#x27;INJURIES_INCAPACITATING&#x27;,\n",
       "                                                   &#x27;INJURIES_NON_INCAPACITATING&#x27;,\n",
       "                                                   &#x27;INJURIES_REPORTED_NOT_EVIDENT&#x27;,\n",
       "                                                   &#x27;INJURIES...\n",
       "                                                   &#x27;ROADWAY_SURFACE_COND&#x27;,\n",
       "                                                   &#x27;ROAD_DEFECT&#x27;, &#x27;REPORT_TYPE&#x27;,\n",
       "                                                   &#x27;INTERSECTION_RELATED_I&#x27;,\n",
       "                                                   &#x27;NOT_RIGHT_OF_WAY_I&#x27;,\n",
       "                                                   &#x27;HIT_AND_RUN_I&#x27;, &#x27;DAMAGE&#x27;,\n",
       "                                                   &#x27;PRIM_CONTRIBUTORY_CAUSE&#x27;,\n",
       "                                                   &#x27;SEC_CONTRIBUTORY_CAUSE&#x27;,\n",
       "                                                   &#x27;STREET_DIRECTION&#x27;,\n",
       "                                                   &#x27;STREET_NAME&#x27;,\n",
       "                                                   &#x27;PHOTOS_TAKEN_I&#x27;,\n",
       "                                                   &#x27;STATEMENTS_TAKEN_I&#x27;,\n",
       "                                                   &#x27;DOORING_I&#x27;, &#x27;WORK_ZONE_I&#x27;,\n",
       "                                                   &#x27;WORK_ZONE_TYPE&#x27;,\n",
       "                                                   &#x27;WORKERS_PRESENT_I&#x27;,\n",
       "                                                   &#x27;MOST_SEVERE_INJURY&#x27;])])),\n",
       "                (&#x27;clf&#x27;, KNeighborsClassifier())])</pre><b>In a Jupyter environment, please rerun this cell to show the HTML representation or trust the notebook. <br />On GitHub, the HTML representation is unable to render, please try loading this page with nbviewer.org.</b></div><div class=\"sk-container\" hidden><div class=\"sk-item sk-dashed-wrapped\"><div class=\"sk-label-container\"><div class=\"sk-label sk-toggleable\"><input class=\"sk-toggleable__control sk-hidden--visually\" id=\"sk-estimator-id-132\" type=\"checkbox\" ><label for=\"sk-estimator-id-132\" class=\"sk-toggleable__label sk-toggleable__label-arrow\">Pipeline</label><div class=\"sk-toggleable__content\"><pre>Pipeline(steps=[(&#x27;preprocessor&#x27;,\n",
       "                 ColumnTransformer(transformers=[(&#x27;num&#x27;,\n",
       "                                                  Pipeline(steps=[(&#x27;imputer&#x27;,\n",
       "                                                                   SimpleImputer(strategy=&#x27;median&#x27;)),\n",
       "                                                                  (&#x27;scaler&#x27;,\n",
       "                                                                   StandardScaler())]),\n",
       "                                                  [&#x27;POSTED_SPEED_LIMIT&#x27;,\n",
       "                                                   &#x27;LANE_CNT&#x27;, &#x27;STREET_NO&#x27;,\n",
       "                                                   &#x27;NUM_UNITS&#x27;,\n",
       "                                                   &#x27;INJURIES_TOTAL&#x27;,\n",
       "                                                   &#x27;INJURIES_FATAL&#x27;,\n",
       "                                                   &#x27;INJURIES_INCAPACITATING&#x27;,\n",
       "                                                   &#x27;INJURIES_NON_INCAPACITATING&#x27;,\n",
       "                                                   &#x27;INJURIES_REPORTED_NOT_EVIDENT&#x27;,\n",
       "                                                   &#x27;INJURIES...\n",
       "                                                   &#x27;ROADWAY_SURFACE_COND&#x27;,\n",
       "                                                   &#x27;ROAD_DEFECT&#x27;, &#x27;REPORT_TYPE&#x27;,\n",
       "                                                   &#x27;INTERSECTION_RELATED_I&#x27;,\n",
       "                                                   &#x27;NOT_RIGHT_OF_WAY_I&#x27;,\n",
       "                                                   &#x27;HIT_AND_RUN_I&#x27;, &#x27;DAMAGE&#x27;,\n",
       "                                                   &#x27;PRIM_CONTRIBUTORY_CAUSE&#x27;,\n",
       "                                                   &#x27;SEC_CONTRIBUTORY_CAUSE&#x27;,\n",
       "                                                   &#x27;STREET_DIRECTION&#x27;,\n",
       "                                                   &#x27;STREET_NAME&#x27;,\n",
       "                                                   &#x27;PHOTOS_TAKEN_I&#x27;,\n",
       "                                                   &#x27;STATEMENTS_TAKEN_I&#x27;,\n",
       "                                                   &#x27;DOORING_I&#x27;, &#x27;WORK_ZONE_I&#x27;,\n",
       "                                                   &#x27;WORK_ZONE_TYPE&#x27;,\n",
       "                                                   &#x27;WORKERS_PRESENT_I&#x27;,\n",
       "                                                   &#x27;MOST_SEVERE_INJURY&#x27;])])),\n",
       "                (&#x27;clf&#x27;, KNeighborsClassifier())])</pre></div></div></div><div class=\"sk-serial\"><div class=\"sk-item sk-dashed-wrapped\"><div class=\"sk-label-container\"><div class=\"sk-label sk-toggleable\"><input class=\"sk-toggleable__control sk-hidden--visually\" id=\"sk-estimator-id-133\" type=\"checkbox\" ><label for=\"sk-estimator-id-133\" class=\"sk-toggleable__label sk-toggleable__label-arrow\">preprocessor: ColumnTransformer</label><div class=\"sk-toggleable__content\"><pre>ColumnTransformer(transformers=[(&#x27;num&#x27;,\n",
       "                                 Pipeline(steps=[(&#x27;imputer&#x27;,\n",
       "                                                  SimpleImputer(strategy=&#x27;median&#x27;)),\n",
       "                                                 (&#x27;scaler&#x27;, StandardScaler())]),\n",
       "                                 [&#x27;POSTED_SPEED_LIMIT&#x27;, &#x27;LANE_CNT&#x27;, &#x27;STREET_NO&#x27;,\n",
       "                                  &#x27;NUM_UNITS&#x27;, &#x27;INJURIES_TOTAL&#x27;,\n",
       "                                  &#x27;INJURIES_FATAL&#x27;, &#x27;INJURIES_INCAPACITATING&#x27;,\n",
       "                                  &#x27;INJURIES_NON_INCAPACITATING&#x27;,\n",
       "                                  &#x27;INJURIES_REPORTED_NOT_EVIDENT&#x27;,\n",
       "                                  &#x27;INJURIES_NO_INDICATION&#x27;, &#x27;INJURIES_UNKNOW...\n",
       "                                  &#x27;FIRST_CRASH_TYPE&#x27;, &#x27;TRAFFICWAY_TYPE&#x27;,\n",
       "                                  &#x27;ALIGNMENT&#x27;, &#x27;ROADWAY_SURFACE_COND&#x27;,\n",
       "                                  &#x27;ROAD_DEFECT&#x27;, &#x27;REPORT_TYPE&#x27;,\n",
       "                                  &#x27;INTERSECTION_RELATED_I&#x27;,\n",
       "                                  &#x27;NOT_RIGHT_OF_WAY_I&#x27;, &#x27;HIT_AND_RUN_I&#x27;,\n",
       "                                  &#x27;DAMAGE&#x27;, &#x27;PRIM_CONTRIBUTORY_CAUSE&#x27;,\n",
       "                                  &#x27;SEC_CONTRIBUTORY_CAUSE&#x27;, &#x27;STREET_DIRECTION&#x27;,\n",
       "                                  &#x27;STREET_NAME&#x27;, &#x27;PHOTOS_TAKEN_I&#x27;,\n",
       "                                  &#x27;STATEMENTS_TAKEN_I&#x27;, &#x27;DOORING_I&#x27;,\n",
       "                                  &#x27;WORK_ZONE_I&#x27;, &#x27;WORK_ZONE_TYPE&#x27;,\n",
       "                                  &#x27;WORKERS_PRESENT_I&#x27;, &#x27;MOST_SEVERE_INJURY&#x27;])])</pre></div></div></div><div class=\"sk-parallel\"><div class=\"sk-parallel-item\"><div class=\"sk-item\"><div class=\"sk-label-container\"><div class=\"sk-label sk-toggleable\"><input class=\"sk-toggleable__control sk-hidden--visually\" id=\"sk-estimator-id-134\" type=\"checkbox\" ><label for=\"sk-estimator-id-134\" class=\"sk-toggleable__label sk-toggleable__label-arrow\">num</label><div class=\"sk-toggleable__content\"><pre>[&#x27;POSTED_SPEED_LIMIT&#x27;, &#x27;LANE_CNT&#x27;, &#x27;STREET_NO&#x27;, &#x27;NUM_UNITS&#x27;, &#x27;INJURIES_TOTAL&#x27;, &#x27;INJURIES_FATAL&#x27;, &#x27;INJURIES_INCAPACITATING&#x27;, &#x27;INJURIES_NON_INCAPACITATING&#x27;, &#x27;INJURIES_REPORTED_NOT_EVIDENT&#x27;, &#x27;INJURIES_NO_INDICATION&#x27;, &#x27;INJURIES_UNKNOWN&#x27;, &#x27;CRASH_HOUR&#x27;, &#x27;CRASH_DAY_OF_WEEK&#x27;, &#x27;CRASH_MONTH&#x27;, &#x27;LATITUDE&#x27;, &#x27;LONGITUDE&#x27;, &#x27;YEAR&#x27;]</pre></div></div></div><div class=\"sk-serial\"><div class=\"sk-item\"><div class=\"sk-serial\"><div class=\"sk-item\"><div class=\"sk-estimator sk-toggleable\"><input class=\"sk-toggleable__control sk-hidden--visually\" id=\"sk-estimator-id-135\" type=\"checkbox\" ><label for=\"sk-estimator-id-135\" class=\"sk-toggleable__label sk-toggleable__label-arrow\">SimpleImputer</label><div class=\"sk-toggleable__content\"><pre>SimpleImputer(strategy=&#x27;median&#x27;)</pre></div></div></div><div class=\"sk-item\"><div class=\"sk-estimator sk-toggleable\"><input class=\"sk-toggleable__control sk-hidden--visually\" id=\"sk-estimator-id-136\" type=\"checkbox\" ><label for=\"sk-estimator-id-136\" class=\"sk-toggleable__label sk-toggleable__label-arrow\">StandardScaler</label><div class=\"sk-toggleable__content\"><pre>StandardScaler()</pre></div></div></div></div></div></div></div></div><div class=\"sk-parallel-item\"><div class=\"sk-item\"><div class=\"sk-label-container\"><div class=\"sk-label sk-toggleable\"><input class=\"sk-toggleable__control sk-hidden--visually\" id=\"sk-estimator-id-137\" type=\"checkbox\" ><label for=\"sk-estimator-id-137\" class=\"sk-toggleable__label sk-toggleable__label-arrow\">cat</label><div class=\"sk-toggleable__content\"><pre>[&#x27;TRAFFIC_CONTROL_DEVICE&#x27;, &#x27;DEVICE_CONDITION&#x27;, &#x27;WEATHER_CONDITION&#x27;, &#x27;LIGHTING_CONDITION&#x27;, &#x27;FIRST_CRASH_TYPE&#x27;, &#x27;TRAFFICWAY_TYPE&#x27;, &#x27;ALIGNMENT&#x27;, &#x27;ROADWAY_SURFACE_COND&#x27;, &#x27;ROAD_DEFECT&#x27;, &#x27;REPORT_TYPE&#x27;, &#x27;INTERSECTION_RELATED_I&#x27;, &#x27;NOT_RIGHT_OF_WAY_I&#x27;, &#x27;HIT_AND_RUN_I&#x27;, &#x27;DAMAGE&#x27;, &#x27;PRIM_CONTRIBUTORY_CAUSE&#x27;, &#x27;SEC_CONTRIBUTORY_CAUSE&#x27;, &#x27;STREET_DIRECTION&#x27;, &#x27;STREET_NAME&#x27;, &#x27;PHOTOS_TAKEN_I&#x27;, &#x27;STATEMENTS_TAKEN_I&#x27;, &#x27;DOORING_I&#x27;, &#x27;WORK_ZONE_I&#x27;, &#x27;WORK_ZONE_TYPE&#x27;, &#x27;WORKERS_PRESENT_I&#x27;, &#x27;MOST_SEVERE_INJURY&#x27;]</pre></div></div></div><div class=\"sk-serial\"><div class=\"sk-item\"><div class=\"sk-serial\"><div class=\"sk-item\"><div class=\"sk-estimator sk-toggleable\"><input class=\"sk-toggleable__control sk-hidden--visually\" id=\"sk-estimator-id-138\" type=\"checkbox\" ><label for=\"sk-estimator-id-138\" class=\"sk-toggleable__label sk-toggleable__label-arrow\">SimpleImputer</label><div class=\"sk-toggleable__content\"><pre>SimpleImputer(strategy=&#x27;most_frequent&#x27;)</pre></div></div></div><div class=\"sk-item\"><div class=\"sk-estimator sk-toggleable\"><input class=\"sk-toggleable__control sk-hidden--visually\" id=\"sk-estimator-id-139\" type=\"checkbox\" ><label for=\"sk-estimator-id-139\" class=\"sk-toggleable__label sk-toggleable__label-arrow\">OneHotEncoder</label><div class=\"sk-toggleable__content\"><pre>OneHotEncoder(handle_unknown=&#x27;ignore&#x27;)</pre></div></div></div></div></div></div></div></div></div></div><div class=\"sk-item\"><div class=\"sk-estimator sk-toggleable\"><input class=\"sk-toggleable__control sk-hidden--visually\" id=\"sk-estimator-id-140\" type=\"checkbox\" ><label for=\"sk-estimator-id-140\" class=\"sk-toggleable__label sk-toggleable__label-arrow\">KNeighborsClassifier</label><div class=\"sk-toggleable__content\"><pre>KNeighborsClassifier()</pre></div></div></div></div></div></div></div>"
      ],
      "text/plain": [
       "Pipeline(steps=[('preprocessor',\n",
       "                 ColumnTransformer(transformers=[('num',\n",
       "                                                  Pipeline(steps=[('imputer',\n",
       "                                                                   SimpleImputer(strategy='median')),\n",
       "                                                                  ('scaler',\n",
       "                                                                   StandardScaler())]),\n",
       "                                                  ['POSTED_SPEED_LIMIT',\n",
       "                                                   'LANE_CNT', 'STREET_NO',\n",
       "                                                   'NUM_UNITS',\n",
       "                                                   'INJURIES_TOTAL',\n",
       "                                                   'INJURIES_FATAL',\n",
       "                                                   'INJURIES_INCAPACITATING',\n",
       "                                                   'INJURIES_NON_INCAPACITATING',\n",
       "                                                   'INJURIES_REPORTED_NOT_EVIDENT',\n",
       "                                                   'INJURIES...\n",
       "                                                   'ROADWAY_SURFACE_COND',\n",
       "                                                   'ROAD_DEFECT', 'REPORT_TYPE',\n",
       "                                                   'INTERSECTION_RELATED_I',\n",
       "                                                   'NOT_RIGHT_OF_WAY_I',\n",
       "                                                   'HIT_AND_RUN_I', 'DAMAGE',\n",
       "                                                   'PRIM_CONTRIBUTORY_CAUSE',\n",
       "                                                   'SEC_CONTRIBUTORY_CAUSE',\n",
       "                                                   'STREET_DIRECTION',\n",
       "                                                   'STREET_NAME',\n",
       "                                                   'PHOTOS_TAKEN_I',\n",
       "                                                   'STATEMENTS_TAKEN_I',\n",
       "                                                   'DOORING_I', 'WORK_ZONE_I',\n",
       "                                                   'WORK_ZONE_TYPE',\n",
       "                                                   'WORKERS_PRESENT_I',\n",
       "                                                   'MOST_SEVERE_INJURY'])])),\n",
       "                ('clf', KNeighborsClassifier())])"
      ]
     },
     "execution_count": 139,
     "metadata": {},
     "output_type": "execute_result"
    }
   ],
   "source": [
    "pipe"
   ]
  },
  {
   "cell_type": "code",
   "execution_count": 141,
   "id": "7a240f3d",
   "metadata": {},
   "outputs": [
    {
     "data": {
      "text/html": [
       "<style>#sk-container-id-15 {color: black;background-color: white;}#sk-container-id-15 pre{padding: 0;}#sk-container-id-15 div.sk-toggleable {background-color: white;}#sk-container-id-15 label.sk-toggleable__label {cursor: pointer;display: block;width: 100%;margin-bottom: 0;padding: 0.3em;box-sizing: border-box;text-align: center;}#sk-container-id-15 label.sk-toggleable__label-arrow:before {content: \"▸\";float: left;margin-right: 0.25em;color: #696969;}#sk-container-id-15 label.sk-toggleable__label-arrow:hover:before {color: black;}#sk-container-id-15 div.sk-estimator:hover label.sk-toggleable__label-arrow:before {color: black;}#sk-container-id-15 div.sk-toggleable__content {max-height: 0;max-width: 0;overflow: hidden;text-align: left;background-color: #f0f8ff;}#sk-container-id-15 div.sk-toggleable__content pre {margin: 0.2em;color: black;border-radius: 0.25em;background-color: #f0f8ff;}#sk-container-id-15 input.sk-toggleable__control:checked~div.sk-toggleable__content {max-height: 200px;max-width: 100%;overflow: auto;}#sk-container-id-15 input.sk-toggleable__control:checked~label.sk-toggleable__label-arrow:before {content: \"▾\";}#sk-container-id-15 div.sk-estimator input.sk-toggleable__control:checked~label.sk-toggleable__label {background-color: #d4ebff;}#sk-container-id-15 div.sk-label input.sk-toggleable__control:checked~label.sk-toggleable__label {background-color: #d4ebff;}#sk-container-id-15 input.sk-hidden--visually {border: 0;clip: rect(1px 1px 1px 1px);clip: rect(1px, 1px, 1px, 1px);height: 1px;margin: -1px;overflow: hidden;padding: 0;position: absolute;width: 1px;}#sk-container-id-15 div.sk-estimator {font-family: monospace;background-color: #f0f8ff;border: 1px dotted black;border-radius: 0.25em;box-sizing: border-box;margin-bottom: 0.5em;}#sk-container-id-15 div.sk-estimator:hover {background-color: #d4ebff;}#sk-container-id-15 div.sk-parallel-item::after {content: \"\";width: 100%;border-bottom: 1px solid gray;flex-grow: 1;}#sk-container-id-15 div.sk-label:hover label.sk-toggleable__label {background-color: #d4ebff;}#sk-container-id-15 div.sk-serial::before {content: \"\";position: absolute;border-left: 1px solid gray;box-sizing: border-box;top: 0;bottom: 0;left: 50%;z-index: 0;}#sk-container-id-15 div.sk-serial {display: flex;flex-direction: column;align-items: center;background-color: white;padding-right: 0.2em;padding-left: 0.2em;position: relative;}#sk-container-id-15 div.sk-item {position: relative;z-index: 1;}#sk-container-id-15 div.sk-parallel {display: flex;align-items: stretch;justify-content: center;background-color: white;position: relative;}#sk-container-id-15 div.sk-item::before, #sk-container-id-15 div.sk-parallel-item::before {content: \"\";position: absolute;border-left: 1px solid gray;box-sizing: border-box;top: 0;bottom: 0;left: 50%;z-index: -1;}#sk-container-id-15 div.sk-parallel-item {display: flex;flex-direction: column;z-index: 1;position: relative;background-color: white;}#sk-container-id-15 div.sk-parallel-item:first-child::after {align-self: flex-end;width: 50%;}#sk-container-id-15 div.sk-parallel-item:last-child::after {align-self: flex-start;width: 50%;}#sk-container-id-15 div.sk-parallel-item:only-child::after {width: 0;}#sk-container-id-15 div.sk-dashed-wrapped {border: 1px dashed gray;margin: 0 0.4em 0.5em 0.4em;box-sizing: border-box;padding-bottom: 0.4em;background-color: white;}#sk-container-id-15 div.sk-label label {font-family: monospace;font-weight: bold;display: inline-block;line-height: 1.2em;}#sk-container-id-15 div.sk-label-container {text-align: center;}#sk-container-id-15 div.sk-container {/* jupyter's `normalize.less` sets `[hidden] { display: none; }` but bootstrap.min.css set `[hidden] { display: none !important; }` so we also need the `!important` here to be able to override the default hidden behavior on the sphinx rendered scikit-learn.org. See: https://github.com/scikit-learn/scikit-learn/issues/21755 */display: inline-block !important;position: relative;}#sk-container-id-15 div.sk-text-repr-fallback {display: none;}</style><div id=\"sk-container-id-15\" class=\"sk-top-container\"><div class=\"sk-text-repr-fallback\"><pre>GridSearchCV(cv=10,\n",
       "             estimator=Pipeline(steps=[(&#x27;preprocessor&#x27;,\n",
       "                                        ColumnTransformer(transformers=[(&#x27;num&#x27;,\n",
       "                                                                         Pipeline(steps=[(&#x27;imputer&#x27;,\n",
       "                                                                                          SimpleImputer(strategy=&#x27;median&#x27;)),\n",
       "                                                                                         (&#x27;scaler&#x27;,\n",
       "                                                                                          StandardScaler())]),\n",
       "                                                                         [&#x27;POSTED_SPEED_LIMIT&#x27;,\n",
       "                                                                          &#x27;LANE_CNT&#x27;,\n",
       "                                                                          &#x27;STREET_NO&#x27;,\n",
       "                                                                          &#x27;NUM_UNITS&#x27;,\n",
       "                                                                          &#x27;INJURIES_TOTAL&#x27;,\n",
       "                                                                          &#x27;INJURIES_FATAL&#x27;,\n",
       "                                                                          &#x27;INJURIES_INCAPACITATING&#x27;,\n",
       "                                                                          &#x27;INJURIES_NON_INCAPACITATING&#x27;,\n",
       "                                                                          &#x27;INJURIES_RE...\n",
       "                                                                          &#x27;SEC_CONTRIBUTORY_CAUSE&#x27;,\n",
       "                                                                          &#x27;STREET_DIRECTION&#x27;,\n",
       "                                                                          &#x27;STREET_NAME&#x27;,\n",
       "                                                                          &#x27;PHOTOS_TAKEN_I&#x27;,\n",
       "                                                                          &#x27;STATEMENTS_TAKEN_I&#x27;,\n",
       "                                                                          &#x27;DOORING_I&#x27;,\n",
       "                                                                          &#x27;WORK_ZONE_I&#x27;,\n",
       "                                                                          &#x27;WORK_ZONE_TYPE&#x27;,\n",
       "                                                                          &#x27;WORKERS_PRESENT_I&#x27;,\n",
       "                                                                          &#x27;MOST_SEVERE_INJURY&#x27;])])),\n",
       "                                       (&#x27;clf&#x27;, KNeighborsClassifier())]),\n",
       "             n_jobs=-1,\n",
       "             param_grid={&#x27;clf__n_neighbors&#x27;: [1, 2, 3, 4, 5, 6, 7, 8, 9, 10, 11,\n",
       "                                              12, 13, 14, 15, 16, 17, 18, 19,\n",
       "                                              20],\n",
       "                         &#x27;clf__weights&#x27;: [&#x27;uniform&#x27;, &#x27;distance&#x27;]},\n",
       "             scoring=&#x27;accuracy&#x27;)</pre><b>In a Jupyter environment, please rerun this cell to show the HTML representation or trust the notebook. <br />On GitHub, the HTML representation is unable to render, please try loading this page with nbviewer.org.</b></div><div class=\"sk-container\" hidden><div class=\"sk-item sk-dashed-wrapped\"><div class=\"sk-label-container\"><div class=\"sk-label sk-toggleable\"><input class=\"sk-toggleable__control sk-hidden--visually\" id=\"sk-estimator-id-141\" type=\"checkbox\" ><label for=\"sk-estimator-id-141\" class=\"sk-toggleable__label sk-toggleable__label-arrow\">GridSearchCV</label><div class=\"sk-toggleable__content\"><pre>GridSearchCV(cv=10,\n",
       "             estimator=Pipeline(steps=[(&#x27;preprocessor&#x27;,\n",
       "                                        ColumnTransformer(transformers=[(&#x27;num&#x27;,\n",
       "                                                                         Pipeline(steps=[(&#x27;imputer&#x27;,\n",
       "                                                                                          SimpleImputer(strategy=&#x27;median&#x27;)),\n",
       "                                                                                         (&#x27;scaler&#x27;,\n",
       "                                                                                          StandardScaler())]),\n",
       "                                                                         [&#x27;POSTED_SPEED_LIMIT&#x27;,\n",
       "                                                                          &#x27;LANE_CNT&#x27;,\n",
       "                                                                          &#x27;STREET_NO&#x27;,\n",
       "                                                                          &#x27;NUM_UNITS&#x27;,\n",
       "                                                                          &#x27;INJURIES_TOTAL&#x27;,\n",
       "                                                                          &#x27;INJURIES_FATAL&#x27;,\n",
       "                                                                          &#x27;INJURIES_INCAPACITATING&#x27;,\n",
       "                                                                          &#x27;INJURIES_NON_INCAPACITATING&#x27;,\n",
       "                                                                          &#x27;INJURIES_RE...\n",
       "                                                                          &#x27;SEC_CONTRIBUTORY_CAUSE&#x27;,\n",
       "                                                                          &#x27;STREET_DIRECTION&#x27;,\n",
       "                                                                          &#x27;STREET_NAME&#x27;,\n",
       "                                                                          &#x27;PHOTOS_TAKEN_I&#x27;,\n",
       "                                                                          &#x27;STATEMENTS_TAKEN_I&#x27;,\n",
       "                                                                          &#x27;DOORING_I&#x27;,\n",
       "                                                                          &#x27;WORK_ZONE_I&#x27;,\n",
       "                                                                          &#x27;WORK_ZONE_TYPE&#x27;,\n",
       "                                                                          &#x27;WORKERS_PRESENT_I&#x27;,\n",
       "                                                                          &#x27;MOST_SEVERE_INJURY&#x27;])])),\n",
       "                                       (&#x27;clf&#x27;, KNeighborsClassifier())]),\n",
       "             n_jobs=-1,\n",
       "             param_grid={&#x27;clf__n_neighbors&#x27;: [1, 2, 3, 4, 5, 6, 7, 8, 9, 10, 11,\n",
       "                                              12, 13, 14, 15, 16, 17, 18, 19,\n",
       "                                              20],\n",
       "                         &#x27;clf__weights&#x27;: [&#x27;uniform&#x27;, &#x27;distance&#x27;]},\n",
       "             scoring=&#x27;accuracy&#x27;)</pre></div></div></div><div class=\"sk-parallel\"><div class=\"sk-parallel-item\"><div class=\"sk-item\"><div class=\"sk-label-container\"><div class=\"sk-label sk-toggleable\"><input class=\"sk-toggleable__control sk-hidden--visually\" id=\"sk-estimator-id-142\" type=\"checkbox\" ><label for=\"sk-estimator-id-142\" class=\"sk-toggleable__label sk-toggleable__label-arrow\">estimator: Pipeline</label><div class=\"sk-toggleable__content\"><pre>Pipeline(steps=[(&#x27;preprocessor&#x27;,\n",
       "                 ColumnTransformer(transformers=[(&#x27;num&#x27;,\n",
       "                                                  Pipeline(steps=[(&#x27;imputer&#x27;,\n",
       "                                                                   SimpleImputer(strategy=&#x27;median&#x27;)),\n",
       "                                                                  (&#x27;scaler&#x27;,\n",
       "                                                                   StandardScaler())]),\n",
       "                                                  [&#x27;POSTED_SPEED_LIMIT&#x27;,\n",
       "                                                   &#x27;LANE_CNT&#x27;, &#x27;STREET_NO&#x27;,\n",
       "                                                   &#x27;NUM_UNITS&#x27;,\n",
       "                                                   &#x27;INJURIES_TOTAL&#x27;,\n",
       "                                                   &#x27;INJURIES_FATAL&#x27;,\n",
       "                                                   &#x27;INJURIES_INCAPACITATING&#x27;,\n",
       "                                                   &#x27;INJURIES_NON_INCAPACITATING&#x27;,\n",
       "                                                   &#x27;INJURIES_REPORTED_NOT_EVIDENT&#x27;,\n",
       "                                                   &#x27;INJURIES...\n",
       "                                                   &#x27;ROADWAY_SURFACE_COND&#x27;,\n",
       "                                                   &#x27;ROAD_DEFECT&#x27;, &#x27;REPORT_TYPE&#x27;,\n",
       "                                                   &#x27;INTERSECTION_RELATED_I&#x27;,\n",
       "                                                   &#x27;NOT_RIGHT_OF_WAY_I&#x27;,\n",
       "                                                   &#x27;HIT_AND_RUN_I&#x27;, &#x27;DAMAGE&#x27;,\n",
       "                                                   &#x27;PRIM_CONTRIBUTORY_CAUSE&#x27;,\n",
       "                                                   &#x27;SEC_CONTRIBUTORY_CAUSE&#x27;,\n",
       "                                                   &#x27;STREET_DIRECTION&#x27;,\n",
       "                                                   &#x27;STREET_NAME&#x27;,\n",
       "                                                   &#x27;PHOTOS_TAKEN_I&#x27;,\n",
       "                                                   &#x27;STATEMENTS_TAKEN_I&#x27;,\n",
       "                                                   &#x27;DOORING_I&#x27;, &#x27;WORK_ZONE_I&#x27;,\n",
       "                                                   &#x27;WORK_ZONE_TYPE&#x27;,\n",
       "                                                   &#x27;WORKERS_PRESENT_I&#x27;,\n",
       "                                                   &#x27;MOST_SEVERE_INJURY&#x27;])])),\n",
       "                (&#x27;clf&#x27;, KNeighborsClassifier())])</pre></div></div></div><div class=\"sk-serial\"><div class=\"sk-item\"><div class=\"sk-serial\"><div class=\"sk-item sk-dashed-wrapped\"><div class=\"sk-label-container\"><div class=\"sk-label sk-toggleable\"><input class=\"sk-toggleable__control sk-hidden--visually\" id=\"sk-estimator-id-143\" type=\"checkbox\" ><label for=\"sk-estimator-id-143\" class=\"sk-toggleable__label sk-toggleable__label-arrow\">preprocessor: ColumnTransformer</label><div class=\"sk-toggleable__content\"><pre>ColumnTransformer(transformers=[(&#x27;num&#x27;,\n",
       "                                 Pipeline(steps=[(&#x27;imputer&#x27;,\n",
       "                                                  SimpleImputer(strategy=&#x27;median&#x27;)),\n",
       "                                                 (&#x27;scaler&#x27;, StandardScaler())]),\n",
       "                                 [&#x27;POSTED_SPEED_LIMIT&#x27;, &#x27;LANE_CNT&#x27;, &#x27;STREET_NO&#x27;,\n",
       "                                  &#x27;NUM_UNITS&#x27;, &#x27;INJURIES_TOTAL&#x27;,\n",
       "                                  &#x27;INJURIES_FATAL&#x27;, &#x27;INJURIES_INCAPACITATING&#x27;,\n",
       "                                  &#x27;INJURIES_NON_INCAPACITATING&#x27;,\n",
       "                                  &#x27;INJURIES_REPORTED_NOT_EVIDENT&#x27;,\n",
       "                                  &#x27;INJURIES_NO_INDICATION&#x27;, &#x27;INJURIES_UNKNOW...\n",
       "                                  &#x27;FIRST_CRASH_TYPE&#x27;, &#x27;TRAFFICWAY_TYPE&#x27;,\n",
       "                                  &#x27;ALIGNMENT&#x27;, &#x27;ROADWAY_SURFACE_COND&#x27;,\n",
       "                                  &#x27;ROAD_DEFECT&#x27;, &#x27;REPORT_TYPE&#x27;,\n",
       "                                  &#x27;INTERSECTION_RELATED_I&#x27;,\n",
       "                                  &#x27;NOT_RIGHT_OF_WAY_I&#x27;, &#x27;HIT_AND_RUN_I&#x27;,\n",
       "                                  &#x27;DAMAGE&#x27;, &#x27;PRIM_CONTRIBUTORY_CAUSE&#x27;,\n",
       "                                  &#x27;SEC_CONTRIBUTORY_CAUSE&#x27;, &#x27;STREET_DIRECTION&#x27;,\n",
       "                                  &#x27;STREET_NAME&#x27;, &#x27;PHOTOS_TAKEN_I&#x27;,\n",
       "                                  &#x27;STATEMENTS_TAKEN_I&#x27;, &#x27;DOORING_I&#x27;,\n",
       "                                  &#x27;WORK_ZONE_I&#x27;, &#x27;WORK_ZONE_TYPE&#x27;,\n",
       "                                  &#x27;WORKERS_PRESENT_I&#x27;, &#x27;MOST_SEVERE_INJURY&#x27;])])</pre></div></div></div><div class=\"sk-parallel\"><div class=\"sk-parallel-item\"><div class=\"sk-item\"><div class=\"sk-label-container\"><div class=\"sk-label sk-toggleable\"><input class=\"sk-toggleable__control sk-hidden--visually\" id=\"sk-estimator-id-144\" type=\"checkbox\" ><label for=\"sk-estimator-id-144\" class=\"sk-toggleable__label sk-toggleable__label-arrow\">num</label><div class=\"sk-toggleable__content\"><pre>[&#x27;POSTED_SPEED_LIMIT&#x27;, &#x27;LANE_CNT&#x27;, &#x27;STREET_NO&#x27;, &#x27;NUM_UNITS&#x27;, &#x27;INJURIES_TOTAL&#x27;, &#x27;INJURIES_FATAL&#x27;, &#x27;INJURIES_INCAPACITATING&#x27;, &#x27;INJURIES_NON_INCAPACITATING&#x27;, &#x27;INJURIES_REPORTED_NOT_EVIDENT&#x27;, &#x27;INJURIES_NO_INDICATION&#x27;, &#x27;INJURIES_UNKNOWN&#x27;, &#x27;CRASH_HOUR&#x27;, &#x27;CRASH_DAY_OF_WEEK&#x27;, &#x27;CRASH_MONTH&#x27;, &#x27;LATITUDE&#x27;, &#x27;LONGITUDE&#x27;, &#x27;YEAR&#x27;]</pre></div></div></div><div class=\"sk-serial\"><div class=\"sk-item\"><div class=\"sk-serial\"><div class=\"sk-item\"><div class=\"sk-estimator sk-toggleable\"><input class=\"sk-toggleable__control sk-hidden--visually\" id=\"sk-estimator-id-145\" type=\"checkbox\" ><label for=\"sk-estimator-id-145\" class=\"sk-toggleable__label sk-toggleable__label-arrow\">SimpleImputer</label><div class=\"sk-toggleable__content\"><pre>SimpleImputer(strategy=&#x27;median&#x27;)</pre></div></div></div><div class=\"sk-item\"><div class=\"sk-estimator sk-toggleable\"><input class=\"sk-toggleable__control sk-hidden--visually\" id=\"sk-estimator-id-146\" type=\"checkbox\" ><label for=\"sk-estimator-id-146\" class=\"sk-toggleable__label sk-toggleable__label-arrow\">StandardScaler</label><div class=\"sk-toggleable__content\"><pre>StandardScaler()</pre></div></div></div></div></div></div></div></div><div class=\"sk-parallel-item\"><div class=\"sk-item\"><div class=\"sk-label-container\"><div class=\"sk-label sk-toggleable\"><input class=\"sk-toggleable__control sk-hidden--visually\" id=\"sk-estimator-id-147\" type=\"checkbox\" ><label for=\"sk-estimator-id-147\" class=\"sk-toggleable__label sk-toggleable__label-arrow\">cat</label><div class=\"sk-toggleable__content\"><pre>[&#x27;TRAFFIC_CONTROL_DEVICE&#x27;, &#x27;DEVICE_CONDITION&#x27;, &#x27;WEATHER_CONDITION&#x27;, &#x27;LIGHTING_CONDITION&#x27;, &#x27;FIRST_CRASH_TYPE&#x27;, &#x27;TRAFFICWAY_TYPE&#x27;, &#x27;ALIGNMENT&#x27;, &#x27;ROADWAY_SURFACE_COND&#x27;, &#x27;ROAD_DEFECT&#x27;, &#x27;REPORT_TYPE&#x27;, &#x27;INTERSECTION_RELATED_I&#x27;, &#x27;NOT_RIGHT_OF_WAY_I&#x27;, &#x27;HIT_AND_RUN_I&#x27;, &#x27;DAMAGE&#x27;, &#x27;PRIM_CONTRIBUTORY_CAUSE&#x27;, &#x27;SEC_CONTRIBUTORY_CAUSE&#x27;, &#x27;STREET_DIRECTION&#x27;, &#x27;STREET_NAME&#x27;, &#x27;PHOTOS_TAKEN_I&#x27;, &#x27;STATEMENTS_TAKEN_I&#x27;, &#x27;DOORING_I&#x27;, &#x27;WORK_ZONE_I&#x27;, &#x27;WORK_ZONE_TYPE&#x27;, &#x27;WORKERS_PRESENT_I&#x27;, &#x27;MOST_SEVERE_INJURY&#x27;]</pre></div></div></div><div class=\"sk-serial\"><div class=\"sk-item\"><div class=\"sk-serial\"><div class=\"sk-item\"><div class=\"sk-estimator sk-toggleable\"><input class=\"sk-toggleable__control sk-hidden--visually\" id=\"sk-estimator-id-148\" type=\"checkbox\" ><label for=\"sk-estimator-id-148\" class=\"sk-toggleable__label sk-toggleable__label-arrow\">SimpleImputer</label><div class=\"sk-toggleable__content\"><pre>SimpleImputer(strategy=&#x27;most_frequent&#x27;)</pre></div></div></div><div class=\"sk-item\"><div class=\"sk-estimator sk-toggleable\"><input class=\"sk-toggleable__control sk-hidden--visually\" id=\"sk-estimator-id-149\" type=\"checkbox\" ><label for=\"sk-estimator-id-149\" class=\"sk-toggleable__label sk-toggleable__label-arrow\">OneHotEncoder</label><div class=\"sk-toggleable__content\"><pre>OneHotEncoder(handle_unknown=&#x27;ignore&#x27;)</pre></div></div></div></div></div></div></div></div></div></div><div class=\"sk-item\"><div class=\"sk-estimator sk-toggleable\"><input class=\"sk-toggleable__control sk-hidden--visually\" id=\"sk-estimator-id-150\" type=\"checkbox\" ><label for=\"sk-estimator-id-150\" class=\"sk-toggleable__label sk-toggleable__label-arrow\">KNeighborsClassifier</label><div class=\"sk-toggleable__content\"><pre>KNeighborsClassifier()</pre></div></div></div></div></div></div></div></div></div></div></div></div>"
      ],
      "text/plain": [
       "GridSearchCV(cv=10,\n",
       "             estimator=Pipeline(steps=[('preprocessor',\n",
       "                                        ColumnTransformer(transformers=[('num',\n",
       "                                                                         Pipeline(steps=[('imputer',\n",
       "                                                                                          SimpleImputer(strategy='median')),\n",
       "                                                                                         ('scaler',\n",
       "                                                                                          StandardScaler())]),\n",
       "                                                                         ['POSTED_SPEED_LIMIT',\n",
       "                                                                          'LANE_CNT',\n",
       "                                                                          'STREET_NO',\n",
       "                                                                          'NUM_UNITS',\n",
       "                                                                          'INJURIES_TOTAL',\n",
       "                                                                          'INJURIES_FATAL',\n",
       "                                                                          'INJURIES_INCAPACITATING',\n",
       "                                                                          'INJURIES_NON_INCAPACITATING',\n",
       "                                                                          'INJURIES_RE...\n",
       "                                                                          'SEC_CONTRIBUTORY_CAUSE',\n",
       "                                                                          'STREET_DIRECTION',\n",
       "                                                                          'STREET_NAME',\n",
       "                                                                          'PHOTOS_TAKEN_I',\n",
       "                                                                          'STATEMENTS_TAKEN_I',\n",
       "                                                                          'DOORING_I',\n",
       "                                                                          'WORK_ZONE_I',\n",
       "                                                                          'WORK_ZONE_TYPE',\n",
       "                                                                          'WORKERS_PRESENT_I',\n",
       "                                                                          'MOST_SEVERE_INJURY'])])),\n",
       "                                       ('clf', KNeighborsClassifier())]),\n",
       "             n_jobs=-1,\n",
       "             param_grid={'clf__n_neighbors': [1, 2, 3, 4, 5, 6, 7, 8, 9, 10, 11,\n",
       "                                              12, 13, 14, 15, 16, 17, 18, 19,\n",
       "                                              20],\n",
       "                         'clf__weights': ['uniform', 'distance']},\n",
       "             scoring='accuracy')"
      ]
     },
     "execution_count": 141,
     "metadata": {},
     "output_type": "execute_result"
    }
   ],
   "source": [
    "param_grid = { \n",
    "    'clf__n_neighbors': list(range(1,21)),\n",
    "    'clf__weights' : ['uniform','distance']\n",
    "}\n",
    "\n",
    "# instantiate and fit the grid\n",
    "grid = GridSearchCV(pipe, param_grid, cv=10, scoring='accuracy', n_jobs=-1)\n",
    "grid.fit(X_train, y_train)"
   ]
  },
  {
   "cell_type": "code",
   "execution_count": 142,
   "id": "c1f3c628",
   "metadata": {},
   "outputs": [],
   "source": [
    "# best predictor\n",
    "best_clf = grid.best_estimator_"
   ]
  },
  {
   "cell_type": "code",
   "execution_count": 143,
   "id": "2e554a44",
   "metadata": {},
   "outputs": [
    {
     "data": {
      "text/plain": [
       "{'clf__n_neighbors': 12, 'clf__weights': 'distance'}"
      ]
     },
     "execution_count": 143,
     "metadata": {},
     "output_type": "execute_result"
    }
   ],
   "source": [
    "# best hyper-parameters\n",
    "grid.best_params_"
   ]
  },
  {
   "cell_type": "code",
   "execution_count": 144,
   "id": "0e7964c8",
   "metadata": {},
   "outputs": [],
   "source": [
    "y_test_pred = best_clf.predict(X_test)"
   ]
  },
  {
   "cell_type": "code",
   "execution_count": 151,
   "id": "79e6d527",
   "metadata": {},
   "outputs": [],
   "source": [
    "from sklearn.metrics import accuracy_score, confusion_matrix"
   ]
  },
  {
   "cell_type": "code",
   "execution_count": 147,
   "id": "a416abbc",
   "metadata": {},
   "outputs": [
    {
     "data": {
      "text/plain": [
       "0.8810477657935285"
      ]
     },
     "execution_count": 147,
     "metadata": {},
     "output_type": "execute_result"
    }
   ],
   "source": [
    "# accuracy\n",
    "accuracy_score(y_test,y_test_pred)"
   ]
  },
  {
   "cell_type": "code",
   "execution_count": 152,
   "id": "918a6fa5",
   "metadata": {},
   "outputs": [
    {
     "data": {
      "text/plain": [
       "array([[ 579,  339],\n",
       "       [  47, 2280]])"
      ]
     },
     "execution_count": 152,
     "metadata": {},
     "output_type": "execute_result"
    }
   ],
   "source": [
    "confusion_matrix(y_test,y_test_pred)"
   ]
  },
  {
   "cell_type": "markdown",
   "id": "ea9652f8",
   "metadata": {},
   "source": [
    "## Write-up"
   ]
  },
  {
   "cell_type": "markdown",
   "id": "3af8c9b9",
   "metadata": {},
   "source": [
    "We have trained a nearest neighbors model to classify accidents based on their need of injury assistance of towing services. The model was over eighty-eight percent accurate in test cases. The data were preprocessed to remove features that would not aid in prediction- such as removing ID numbers- as well features that are difficult to encode for a k nearest neighbors model, such as dates.\n",
    "\n",
    "We further processed the data to impute NaN entries with median values in numerical features and frequent values for categorical features. Then we used one-hot encoding on our categorical features, which is necessary for our model type to run.\n",
    "\n",
    "At this point, we fine-tuned the hyperparameters using grid search and trained the model with the best set."
   ]
  },
  {
   "cell_type": "code",
   "execution_count": null,
   "id": "faa48909",
   "metadata": {},
   "outputs": [],
   "source": []
  }
 ],
 "metadata": {
  "kernelspec": {
   "display_name": "Python 3 (ipykernel)",
   "language": "python",
   "name": "python3"
  },
  "language_info": {
   "codemirror_mode": {
    "name": "ipython",
    "version": 3
   },
   "file_extension": ".py",
   "mimetype": "text/x-python",
   "name": "python",
   "nbconvert_exporter": "python",
   "pygments_lexer": "ipython3",
   "version": "3.8.18"
  }
 },
 "nbformat": 4,
 "nbformat_minor": 5
}
