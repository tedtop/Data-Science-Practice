{
 "cells": [
  {
   "cell_type": "code",
   "execution_count": null,
   "metadata": {},
   "outputs": [],
   "source": [
    "import pandas as pd\n",
    "import matplotlib.pyplot as plt"
   ]
  },
  {
   "cell_type": "markdown",
   "metadata": {},
   "source": [
    "# Data Visualization"
   ]
  },
  {
   "cell_type": "markdown",
   "metadata": {},
   "source": [
    "The `Traffic_Crashes_-_Crashes.csv` file  shows information about each traffic crash on city streets within the City of Chicago limits and under the jurisdiction of Chicago Police Department (CPD).\n",
    "It can be downloaded from this [link](https://data.cityofchicago.org/Transportation/Traffic-Crashes-Crashes/85ca-t3if)."
   ]
  },
  {
   "cell_type": "code",
   "execution_count": null,
   "metadata": {
    "scrolled": true
   },
   "outputs": [],
   "source": [
    "data = pd.read_csv('C:\\\\Users\\javier.perez-alvaro\\\\Downloads\\\\Traffic_Crashes_-_Crashes.csv', index_col = 'CRASH_DATE', parse_dates=True)\n",
    "data.head()"
   ]
  },
  {
   "cell_type": "code",
   "execution_count": null,
   "metadata": {},
   "outputs": [],
   "source": [
    "# sort index\n",
    "data.sort_index(inplace=True)\n",
    "data.head()"
   ]
  },
  {
   "cell_type": "code",
   "execution_count": null,
   "metadata": {},
   "outputs": [],
   "source": [
    "# filter out years 2013--2017\n",
    "data = data[data.index.year>=2018]"
   ]
  },
  {
   "cell_type": "code",
   "execution_count": null,
   "metadata": {},
   "outputs": [],
   "source": [
    "data.columns"
   ]
  },
  {
   "cell_type": "markdown",
   "metadata": {},
   "source": [
    "## How have the weekly number of crashes changed over time?"
   ]
  },
  {
   "cell_type": "code",
   "execution_count": null,
   "metadata": {},
   "outputs": [],
   "source": [
    "data.resample('W').CRASH_RECORD_ID.count().plot(figsize=(15,5)) "
   ]
  },
  {
   "cell_type": "markdown",
   "metadata": {},
   "source": [
    "## How has the injury rate changed over time?"
   ]
  },
  {
   "cell_type": "code",
   "execution_count": null,
   "metadata": {},
   "outputs": [],
   "source": [
    "# INJURIES = 1 if the crash involves injuries\n",
    "data['INJURIES'] = (data.INJURIES_TOTAL>=1).astype(int) \n",
    "data.INJURIES"
   ]
  },
  {
   "cell_type": "code",
   "execution_count": null,
   "metadata": {},
   "outputs": [],
   "source": [
    "data.groupby('INJURIES').resample('W').CRASH_RECORD_ID.count().unstack(level=0).plot(figsize=(15,5))"
   ]
  },
  {
   "cell_type": "code",
   "execution_count": null,
   "metadata": {},
   "outputs": [],
   "source": [
    "# number of crashes that involve injuries\n",
    "n_injuries = data[data.INJURIES==1].resample('W').CRASH_RECORD_ID.count()\n",
    "n_injuries"
   ]
  },
  {
   "cell_type": "code",
   "execution_count": null,
   "metadata": {},
   "outputs": [],
   "source": [
    "# total number \n",
    "n_total = data.resample('W').CRASH_RECORD_ID.count()\n",
    "n_total"
   ]
  },
  {
   "cell_type": "code",
   "execution_count": null,
   "metadata": {},
   "outputs": [],
   "source": [
    "# percentage of crashes that invole injuries \n",
    "pct_weekly_injuries = 100*n_injuries/n_total\n",
    "pct_weekly_injuries.plot(figsize=(15,5))"
   ]
  },
  {
   "cell_type": "markdown",
   "metadata": {},
   "source": [
    "## How does the injury rate change through the week?"
   ]
  },
  {
   "cell_type": "code",
   "execution_count": null,
   "metadata": {},
   "outputs": [],
   "source": [
    "table = data.pivot_table(values='CRASH_RECORD_ID', index=data.index.dayofweek, columns='INJURIES',aggfunc='count')\n",
    "table['total'] = table.sum(axis=1)\n",
    "table['pct_injuries'] = 100*table[1]/table['total']\n",
    "table.index = ['Mon','Tue','Wed','Thu','Fri','Sat','Sun']\n",
    "table"
   ]
  },
  {
   "cell_type": "code",
   "execution_count": null,
   "metadata": {},
   "outputs": [],
   "source": [
    "table['pct_injuries'].plot.bar()"
   ]
  },
  {
   "cell_type": "markdown",
   "metadata": {},
   "source": [
    "## Plot daily crashes histogram"
   ]
  },
  {
   "cell_type": "code",
   "execution_count": null,
   "metadata": {},
   "outputs": [],
   "source": [
    "data.resample('D').CRASH_RECORD_ID.count().hist(bins=20)"
   ]
  },
  {
   "cell_type": "markdown",
   "metadata": {},
   "source": [
    "## How do injuries vary with first crash type?"
   ]
  },
  {
   "cell_type": "code",
   "execution_count": null,
   "metadata": {},
   "outputs": [],
   "source": [
    "table = data.pivot_table(values='CRASH_RECORD_ID',index = 'FIRST_CRASH_TYPE', columns='INJURIES',aggfunc='count')\n",
    "table['total'] = table.sum(axis=1)\n",
    "table['pct_injuries'] = 100*table[1]/table['total']\n",
    "table"
   ]
  },
  {
   "cell_type": "code",
   "execution_count": null,
   "metadata": {},
   "outputs": [],
   "source": [
    "table.pct_injuries.plot.bar(figsize=(15,5))"
   ]
  },
  {
   "cell_type": "markdown",
   "metadata": {},
   "source": [
    "## Are injuries more likely in different locations?"
   ]
  },
  {
   "cell_type": "code",
   "execution_count": null,
   "metadata": {},
   "outputs": [],
   "source": [
    "mask = (data.LATITUDE!= 0) & (data.LONGITUDE!=0)\n",
    "data[mask & (data.INJURIES==1)].plot.scatter(x='LONGITUDE', y ='LATITUDE', figsize=(7,7), s=0.1, alpha=0.5)"
   ]
  },
  {
   "cell_type": "code",
   "execution_count": null,
   "metadata": {},
   "outputs": [],
   "source": [
    "data[mask & (data.INJURIES==1)].plot.hexbin(x='LONGITUDE', y ='LATITUDE', gridsize=20,  figsize=(7,7),cmap='Reds')"
   ]
  },
  {
   "cell_type": "markdown",
   "metadata": {},
   "source": [
    "## Area plot"
   ]
  },
  {
   "cell_type": "code",
   "execution_count": null,
   "metadata": {},
   "outputs": [],
   "source": [
    "# weekly number of crashes\n",
    "data.resample('W').CRASH_RECORD_ID.count().plot(figsize=(15,5)) "
   ]
  },
  {
   "cell_type": "code",
   "execution_count": null,
   "metadata": {},
   "outputs": [],
   "source": [
    "# weekly number of crashes by crash type\n",
    "data.groupby('FIRST_CRASH_TYPE').resample('W').CRASH_RECORD_ID.count().unstack(level=0).plot(figsize=(15,7),legend=False)"
   ]
  },
  {
   "cell_type": "code",
   "execution_count": null,
   "metadata": {},
   "outputs": [],
   "source": [
    "# the plots are stacked\n",
    "data.groupby('FIRST_CRASH_TYPE').resample('W').CRASH_RECORD_ID.count().unstack(level=0).plot.area(figsize=(15,7))"
   ]
  },
  {
   "cell_type": "markdown",
   "metadata": {},
   "source": [
    "## Advanced plot"
   ]
  },
  {
   "cell_type": "markdown",
   "metadata": {},
   "source": [
    "Pandas uses the `matplotlib` library"
   ]
  },
  {
   "cell_type": "code",
   "execution_count": null,
   "metadata": {},
   "outputs": [],
   "source": [
    "import matplotlib.pyplot as plt"
   ]
  },
  {
   "cell_type": "code",
   "execution_count": null,
   "metadata": {},
   "outputs": [],
   "source": [
    "# weekly number of crashes by injury status (0=no, 1=yes)\n",
    "weekly = data.groupby('INJURIES').resample('W').CRASH_RECORD_ID.count().unstack(level=0)\n",
    "weekly"
   ]
  },
  {
   "cell_type": "code",
   "execution_count": null,
   "metadata": {},
   "outputs": [],
   "source": [
    "# create figure and axis\n",
    "fig, axis = plt.subplots(figsize=(15,5))\n",
    "# plot weekly dataframe\n",
    "weekly.plot(ax=axis)\n",
    "# change x-axis label\n",
    "axis.set_xlabel('date', fontsize=15)\n",
    "# add y-axis label\n",
    "axis.set_ylabel('weekly number of crashes', fontsize=15)\n",
    "# add title\n",
    "axis.set_title('Number of traffic crashes per week', fontsize=20)\n",
    "# modify the legend\n",
    "axis.legend(labels=['no','yes'], fontsize=15, loc = 'upper left',title='injuries?', title_fontsize=18)\n",
    "# add grid lines\n",
    "axis.grid(True)"
   ]
  },
  {
   "cell_type": "code",
   "execution_count": null,
   "metadata": {},
   "outputs": [],
   "source": [
    "# create figure and axis\n",
    "fig, axis = plt.subplots(1,2,figsize=(15,5))\n",
    "# plot weekly dataframe\n",
    "weekly[0].plot(ax=axis[0])\n",
    "weekly[1].plot(ax=axis[1],color='red')\n",
    "# change x-axis labels\n",
    "axis[0].set_xlabel('date', fontsize=15)\n",
    "axis[1].set_xlabel('date', fontsize=15)\n",
    "# set titles\n",
    "axis[0].set_title('injuries = 0')\n",
    "axis[1].set_title('injuries = 1')\n",
    "\n",
    "\n",
    "fig.suptitle('Number of traffic crashes per week', fontsize=20)\n",
    "axis[0].grid(True)\n",
    "axis[1].grid(True)"
   ]
  },
  {
   "cell_type": "code",
   "execution_count": null,
   "metadata": {},
   "outputs": [],
   "source": [
    "# create figure and axis\n",
    "fig, axis = plt.subplots(figsize=(15,5))\n",
    "# create a twin axis sharing the x-axis.\n",
    "axis2 = axis.twinx()\n",
    "# plot weekly dataframe (injuries=0)\n",
    "weekly[0].plot(ax=axis)\n",
    "# plot weekly dataframe (injuries=1)\n",
    "weekly[1].plot(ax=axis2,color='C1')\n",
    "# change x-axis labels\n",
    "axis.set_xlabel('date', fontsize=15)\n",
    "# add y-axis label\n",
    "axis.set_ylabel('injuries=0', fontsize=15)\n",
    "axis2.set_ylabel('injuries=1', fontsize=15)\n",
    "# add title\n",
    "axis.set_title('Number of traffic crashes per week', fontsize=20)\n",
    "# add legend\n",
    "fig.legend(labels=['no','yes'], fontsize=15, loc = 'upper left',title='injuries?', title_fontsize=18)\n",
    "# grid lines\n",
    "axis.grid(True)"
   ]
  },
  {
   "cell_type": "code",
   "execution_count": null,
   "metadata": {},
   "outputs": [],
   "source": []
  }
 ],
 "metadata": {
  "kernelspec": {
   "display_name": "Python 3 (ipykernel)",
   "language": "python",
   "name": "python3"
  },
  "language_info": {
   "codemirror_mode": {
    "name": "ipython",
    "version": 3
   },
   "file_extension": ".py",
   "mimetype": "text/x-python",
   "name": "python",
   "nbconvert_exporter": "python",
   "pygments_lexer": "ipython3",
   "version": "3.9.12"
  }
 },
 "nbformat": 4,
 "nbformat_minor": 4
}
