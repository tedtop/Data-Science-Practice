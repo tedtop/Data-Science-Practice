{
 "cells": [
  {
   "cell_type": "code",
   "execution_count": null,
   "id": "a8f1a675",
   "metadata": {},
   "outputs": [],
   "source": [
    "import pandas as pd\n",
    "import matplotlib.pyplot as plt"
   ]
  },
  {
   "cell_type": "markdown",
   "id": "3b818687",
   "metadata": {},
   "source": [
    "## Problem 9"
   ]
  },
  {
   "cell_type": "markdown",
   "id": "7425f7ca",
   "metadata": {},
   "source": [
    "### Part 1: Is Missoula getting hotter?"
   ]
  },
  {
   "cell_type": "markdown",
   "id": "f8b9aa53",
   "metadata": {},
   "source": [
    "The `mso_daily_temp.csv` dataset contains temperature records (max. and min. temperatures) for two time periods: 1950-1959 and 2010-2019."
   ]
  },
  {
   "cell_type": "code",
   "execution_count": null,
   "id": "09dd3eda",
   "metadata": {},
   "outputs": [],
   "source": [
    "# load Missoula daily weather data\n",
    "path = 'https://raw.githubusercontent.com/um-perez-alvaro/Data-Science-Practice/master/Data/mso_daily_temp.csv'\n",
    "df = pd.read_csv(path,index_col='DATE',parse_dates=True)[['TMAX','TMIN']]\n",
    "df"
   ]
  },
  {
   "cell_type": "markdown",
   "id": "93e95637",
   "metadata": {},
   "source": [
    "Plot the probability distribution of the daily max and min temperatures in September for the two time periods 1950-1959 and 2010-2019.\n",
    "\n",
    "Hint: use the `plot.density()` method"
   ]
  },
  {
   "cell_type": "code",
   "execution_count": null,
   "id": "938daea2",
   "metadata": {},
   "outputs": [],
   "source": []
  },
  {
   "cell_type": "markdown",
   "id": "b6cb299b",
   "metadata": {},
   "source": [
    "## Part 2: Is the climate in Missoula getting hotter?"
   ]
  },
  {
   "cell_type": "markdown",
   "id": "ff386f69",
   "metadata": {},
   "source": [
    "The `mso_monthly_temp` dataset contains monthly average temperatures in Missoula county for the time period 1895-2021"
   ]
  },
  {
   "cell_type": "code",
   "execution_count": null,
   "id": "70cf662f",
   "metadata": {},
   "outputs": [],
   "source": [
    "path = 'https://raw.githubusercontent.com/um-perez-alvaro/Data-Science-Practice/master/Data/mso_monthly_temp.csv'\n",
    "df = pd.read_csv(path, index_col='Date',parse_dates=True)\n",
    "df"
   ]
  },
  {
   "cell_type": "markdown",
   "id": "6f367445",
   "metadata": {},
   "source": [
    "Compute the average temperature of each year.\n",
    "Assign the results to a new `DataFrame` called ``yearly_data``"
   ]
  },
  {
   "cell_type": "code",
   "execution_count": null,
   "id": "63cb96c3",
   "metadata": {},
   "outputs": [],
   "source": []
  },
  {
   "cell_type": "markdown",
   "id": "39cda19a",
   "metadata": {},
   "source": [
    "Plot the yearly average temperatures."
   ]
  },
  {
   "cell_type": "code",
   "execution_count": null,
   "id": "3bce1913",
   "metadata": {},
   "outputs": [],
   "source": []
  },
  {
   "cell_type": "markdown",
   "id": "2a461298",
   "metadata": {},
   "source": [
    "A location's climate is defined as the *average of its weather over decades* (usually, three decades).\n",
    "Use Pandas built-in function [`rolling`](https://pandas.pydata.org/docs/reference/api/pandas.DataFrame.rolling.html) to compute the average temperature over a three-decades window.\n",
    "Then, plot the results."
   ]
  },
  {
   "cell_type": "code",
   "execution_count": null,
   "id": "333b9232",
   "metadata": {},
   "outputs": [],
   "source": []
  }
 ],
 "metadata": {
  "kernelspec": {
   "display_name": "Python 3 (ipykernel)",
   "language": "python",
   "name": "python3"
  },
  "language_info": {
   "codemirror_mode": {
    "name": "ipython",
    "version": 3
   },
   "file_extension": ".py",
   "mimetype": "text/x-python",
   "name": "python",
   "nbconvert_exporter": "python",
   "pygments_lexer": "ipython3",
   "version": "3.11.9"
  }
 },
 "nbformat": 4,
 "nbformat_minor": 5
}
