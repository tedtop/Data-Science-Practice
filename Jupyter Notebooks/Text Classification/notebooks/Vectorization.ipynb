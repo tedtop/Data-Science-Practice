{
 "cells": [
  {
   "cell_type": "code",
   "execution_count": 1,
   "metadata": {},
   "outputs": [],
   "source": [
    "import pandas as pd"
   ]
  },
  {
   "cell_type": "markdown",
   "metadata": {},
   "source": [
    "## Vectorizing: representing text as numerical data"
   ]
  },
  {
   "cell_type": "code",
   "execution_count": 2,
   "metadata": {},
   "outputs": [],
   "source": [
    "# example text for model training\n",
    "X_train = ['call you tonight', \n",
    "           'Call me a cab', \n",
    "           'please call me... PLEASE!', \n",
    "           'he called the police']"
   ]
  },
  {
   "cell_type": "markdown",
   "metadata": {},
   "source": [
    "We will use [CountVectorizer](https://scikit-learn.org/stable/modules/generated/sklearn.feature_extraction.text.CountVectorizer.html) to convert text into a matrix of token counts."
   ]
  },
  {
   "cell_type": "code",
   "execution_count": 3,
   "metadata": {},
   "outputs": [],
   "source": [
    "# import and initialize CountVectorizer (with the default parameters)\n",
    "from sklearn.feature_extraction.text import CountVectorizer\n",
    "vect = CountVectorizer()"
   ]
  },
  {
   "cell_type": "code",
   "execution_count": 4,
   "metadata": {},
   "outputs": [
    {
     "data": {
      "text/plain": [
       "CountVectorizer()"
      ]
     },
     "execution_count": 4,
     "metadata": {},
     "output_type": "execute_result"
    }
   ],
   "source": [
    "# learn the 'vocabulary' of the training data (occurs in-place)\n",
    "vect.fit(X_train)"
   ]
  },
  {
   "cell_type": "code",
   "execution_count": 5,
   "metadata": {},
   "outputs": [
    {
     "data": {
      "text/plain": [
       "array(['cab', 'call', 'called', 'he', 'me', 'please', 'police', 'the',\n",
       "       'tonight', 'you'], dtype=object)"
      ]
     },
     "execution_count": 5,
     "metadata": {},
     "output_type": "execute_result"
    }
   ],
   "source": [
    "# examine the fitted vocabulary\n",
    "vect.get_feature_names_out()"
   ]
  },
  {
   "cell_type": "code",
   "execution_count": 6,
   "metadata": {},
   "outputs": [
    {
     "data": {
      "text/plain": [
       "<4x10 sparse matrix of type '<class 'numpy.int64'>'\n",
       "\twith 13 stored elements in Compressed Sparse Row format>"
      ]
     },
     "execution_count": 6,
     "metadata": {},
     "output_type": "execute_result"
    }
   ],
   "source": [
    "# transform training data into a 'document-term matrix'\n",
    "X_train_dtm = vect.transform(X_train)\n",
    "X_train_dtm"
   ]
  },
  {
   "cell_type": "code",
   "execution_count": 7,
   "metadata": {},
   "outputs": [
    {
     "data": {
      "text/plain": [
       "array([[0, 1, 0, 0, 0, 0, 0, 0, 1, 1],\n",
       "       [1, 1, 0, 0, 1, 0, 0, 0, 0, 0],\n",
       "       [0, 1, 0, 0, 1, 2, 0, 0, 0, 0],\n",
       "       [0, 0, 1, 1, 0, 0, 1, 1, 0, 0]], dtype=int64)"
      ]
     },
     "execution_count": 7,
     "metadata": {},
     "output_type": "execute_result"
    }
   ],
   "source": [
    "# convert sparse matrix to a dense matrix\n",
    "X_train_dtm.toarray()"
   ]
  },
  {
   "cell_type": "code",
   "execution_count": 9,
   "metadata": {},
   "outputs": [
    {
     "data": {
      "text/html": [
       "<div>\n",
       "<style scoped>\n",
       "    .dataframe tbody tr th:only-of-type {\n",
       "        vertical-align: middle;\n",
       "    }\n",
       "\n",
       "    .dataframe tbody tr th {\n",
       "        vertical-align: top;\n",
       "    }\n",
       "\n",
       "    .dataframe thead th {\n",
       "        text-align: right;\n",
       "    }\n",
       "</style>\n",
       "<table border=\"1\" class=\"dataframe\">\n",
       "  <thead>\n",
       "    <tr style=\"text-align: right;\">\n",
       "      <th></th>\n",
       "      <th>cab</th>\n",
       "      <th>call</th>\n",
       "      <th>called</th>\n",
       "      <th>he</th>\n",
       "      <th>me</th>\n",
       "      <th>please</th>\n",
       "      <th>police</th>\n",
       "      <th>the</th>\n",
       "      <th>tonight</th>\n",
       "      <th>you</th>\n",
       "    </tr>\n",
       "  </thead>\n",
       "  <tbody>\n",
       "    <tr>\n",
       "      <th>call you tonight</th>\n",
       "      <td>0</td>\n",
       "      <td>1</td>\n",
       "      <td>0</td>\n",
       "      <td>0</td>\n",
       "      <td>0</td>\n",
       "      <td>0</td>\n",
       "      <td>0</td>\n",
       "      <td>0</td>\n",
       "      <td>1</td>\n",
       "      <td>1</td>\n",
       "    </tr>\n",
       "    <tr>\n",
       "      <th>Call me a cab</th>\n",
       "      <td>1</td>\n",
       "      <td>1</td>\n",
       "      <td>0</td>\n",
       "      <td>0</td>\n",
       "      <td>1</td>\n",
       "      <td>0</td>\n",
       "      <td>0</td>\n",
       "      <td>0</td>\n",
       "      <td>0</td>\n",
       "      <td>0</td>\n",
       "    </tr>\n",
       "    <tr>\n",
       "      <th>please call me... PLEASE!</th>\n",
       "      <td>0</td>\n",
       "      <td>1</td>\n",
       "      <td>0</td>\n",
       "      <td>0</td>\n",
       "      <td>1</td>\n",
       "      <td>2</td>\n",
       "      <td>0</td>\n",
       "      <td>0</td>\n",
       "      <td>0</td>\n",
       "      <td>0</td>\n",
       "    </tr>\n",
       "    <tr>\n",
       "      <th>he called the police</th>\n",
       "      <td>0</td>\n",
       "      <td>0</td>\n",
       "      <td>1</td>\n",
       "      <td>1</td>\n",
       "      <td>0</td>\n",
       "      <td>0</td>\n",
       "      <td>1</td>\n",
       "      <td>1</td>\n",
       "      <td>0</td>\n",
       "      <td>0</td>\n",
       "    </tr>\n",
       "  </tbody>\n",
       "</table>\n",
       "</div>"
      ],
      "text/plain": [
       "                           cab  call  called  he  me  please  police  the  \\\n",
       "call you tonight             0     1       0   0   0       0       0    0   \n",
       "Call me a cab                1     1       0   0   1       0       0    0   \n",
       "please call me... PLEASE!    0     1       0   0   1       2       0    0   \n",
       "he called the police         0     0       1   1   0       0       1    1   \n",
       "\n",
       "                           tonight  you  \n",
       "call you tonight                 1    1  \n",
       "Call me a cab                    0    0  \n",
       "please call me... PLEASE!        0    0  \n",
       "he called the police             0    0  "
      ]
     },
     "execution_count": 9,
     "metadata": {},
     "output_type": "execute_result"
    }
   ],
   "source": [
    "# examine the vocabulary and document-term matrix together\n",
    "pd.DataFrame(X_train_dtm.toarray(), \n",
    "             columns=vect.get_feature_names_out(),\n",
    "             index=X_train)"
   ]
  },
  {
   "cell_type": "markdown",
   "metadata": {},
   "source": [
    "In this scheme, features and samples are defined as follows:\n",
    "\n",
    "- Each individual token occurrence frequency (normalized or not) is treated as a feature. The vector of all the token frequencies for a given document is considered a multivariate sample. A corpus of documents can thus be represented by a matrix with one row per document and one column per token (e.g. word) occurring in the corpus.\n",
    "\n",
    "- We call vectorization the general process of turning a collection of text documents into numerical feature vectors. This specific strategy (tokenization, counting and normalization) is called the Bag of Words or \"Bag of n-grams\" representation. Documents are described by word occurrences while completely ignoring the relative position information of the words in the document."
   ]
  },
  {
   "cell_type": "code",
   "execution_count": 10,
   "metadata": {},
   "outputs": [],
   "source": [
    "# example text for model testing\n",
    "X_test = [\"please don't call me\"]"
   ]
  },
  {
   "cell_type": "code",
   "execution_count": 11,
   "metadata": {},
   "outputs": [
    {
     "data": {
      "text/plain": [
       "array([[0, 1, 0, 0, 1, 1, 0, 0, 0, 0]], dtype=int64)"
      ]
     },
     "execution_count": 11,
     "metadata": {},
     "output_type": "execute_result"
    }
   ],
   "source": [
    "# transform testing data into a document-term matrix (using existing vocabulary)\n",
    "X_test_dtm = vect.transform(X_test)\n",
    "X_test_dtm.toarray()"
   ]
  },
  {
   "cell_type": "code",
   "execution_count": 12,
   "metadata": {},
   "outputs": [
    {
     "data": {
      "text/html": [
       "<div>\n",
       "<style scoped>\n",
       "    .dataframe tbody tr th:only-of-type {\n",
       "        vertical-align: middle;\n",
       "    }\n",
       "\n",
       "    .dataframe tbody tr th {\n",
       "        vertical-align: top;\n",
       "    }\n",
       "\n",
       "    .dataframe thead th {\n",
       "        text-align: right;\n",
       "    }\n",
       "</style>\n",
       "<table border=\"1\" class=\"dataframe\">\n",
       "  <thead>\n",
       "    <tr style=\"text-align: right;\">\n",
       "      <th></th>\n",
       "      <th>cab</th>\n",
       "      <th>call</th>\n",
       "      <th>called</th>\n",
       "      <th>he</th>\n",
       "      <th>me</th>\n",
       "      <th>please</th>\n",
       "      <th>police</th>\n",
       "      <th>the</th>\n",
       "      <th>tonight</th>\n",
       "      <th>you</th>\n",
       "    </tr>\n",
       "  </thead>\n",
       "  <tbody>\n",
       "    <tr>\n",
       "      <th>0</th>\n",
       "      <td>0</td>\n",
       "      <td>1</td>\n",
       "      <td>0</td>\n",
       "      <td>0</td>\n",
       "      <td>1</td>\n",
       "      <td>1</td>\n",
       "      <td>0</td>\n",
       "      <td>0</td>\n",
       "      <td>0</td>\n",
       "      <td>0</td>\n",
       "    </tr>\n",
       "  </tbody>\n",
       "</table>\n",
       "</div>"
      ],
      "text/plain": [
       "   cab  call  called  he  me  please  police  the  tonight  you\n",
       "0    0     1       0   0   1       1       0    0        0    0"
      ]
     },
     "execution_count": 12,
     "metadata": {},
     "output_type": "execute_result"
    }
   ],
   "source": [
    "# examine the vocabulary and document-term matrix together\n",
    "pd.DataFrame(X_test_dtm.toarray(), columns=vect.get_feature_names_out())"
   ]
  },
  {
   "cell_type": "markdown",
   "metadata": {},
   "source": [
    "## Tuning the vectorizer"
   ]
  },
  {
   "cell_type": "markdown",
   "metadata": {},
   "source": [
    "The vectorizer has some parameters that you might want to tune"
   ]
  },
  {
   "cell_type": "markdown",
   "metadata": {},
   "source": [
    "**Stop words** are words like “and”, “the”, “him”, which are presumed to be uninformative in representing the content of a text, and which may be removed to avoid them being construed as signal for prediction.\n",
    "\n",
    "- **stop_words**: 'english' or None (default)\n",
    "    - If 'english', a built-in stop word list for English is used.\n",
    "    - If a list, that list is assumed to contain stop words, all of which will be removed from the resulting tokens.\n",
    "    - If None, no stop words will be used."
   ]
  },
  {
   "cell_type": "code",
   "execution_count": 13,
   "metadata": {},
   "outputs": [
    {
     "data": {
      "text/plain": [
       "array(['cab', 'called', 'police', 'tonight'], dtype=object)"
      ]
     },
     "execution_count": 13,
     "metadata": {},
     "output_type": "execute_result"
    }
   ],
   "source": [
    "vect = CountVectorizer(stop_words='english')\n",
    "vect.fit(X_train)\n",
    "vect.get_feature_names_out()"
   ]
  },
  {
   "cell_type": "code",
   "execution_count": 14,
   "metadata": {},
   "outputs": [
    {
     "name": "stdout",
     "output_type": "stream",
     "text": [
      "frozenset({'to', 'whether', 'yours', 'seemed', 'between', 'whereas', 'hence', 'became', 'below', 'otherwise', 'rather', 'once', 'our', 'often', 'us', 'any', 'more', 'they', 'if', 'somewhere', 'couldnt', 'somehow', 'con', 'please', 'together', 'because', 'my', 'over', 'here', 'something', 'before', 'it', 'that', 'meanwhile', 'first', 'than', 'about', 'had', 'without', 'bottom', 'he', 'fill', 'since', 'see', 'un', 'forty', 'may', 'ours', 'into', 'fire', 'across', 'their', 'amongst', 'what', 'full', 'anyway', 'already', 'empty', 'then', 'why', 'an', 'interest', 'other', 'formerly', 'whereby', 'be', 'being', 'beyond', 'onto', 'whence', 'out', 'eight', 'hers', 'while', 'where', 'elsewhere', 'of', 'such', 'well', 'and', 'thin', 'many', 'around', 'mostly', 'thereafter', 'during', 'them', 'under', 'never', 'though', 'few', 'twelve', 'side', 'until', 'those', 'but', 'de', 'some', 'give', 'or', 'hasnt', 'herself', 'seeming', 'do', 'further', 'anyhow', 'hereafter', 'enough', 'inc', 'wherever', 'however', 'a', 'amoungst', 'themselves', 'nine', 'four', 'on', 'each', 'although', 'himself', 'therefore', 'becoming', 'you', 'describe', 'nobody', 'whole', 'ten', 'thereby', 'thus', 'fifteen', 'six', 'whereupon', 'through', 'among', 'all', 'as', 'for', 'in', 'most', 'whither', 'there', 'was', 'were', 'itself', 'within', 'how', 'your', 'always', 'yet', 'hundred', 're', 'seem', 'etc', 'above', 'am', 'thru', 'except', 'five', 'hereupon', 'beside', 'own', 'done', 'cant', 'would', 'much', 'next', 'find', 'take', 'keep', 'hereby', 'very', 'will', 'several', 'anything', 'the', 'from', 'wherein', 'toward', 'another', 'ltd', 'sometimes', 'ie', 'others', 'should', 'fifty', 'is', 'against', 'noone', 'move', 'behind', 'almost', 'thence', 'latter', 'have', 'made', 'sometime', 'latterly', 'she', 'whom', 'whoever', 'nothing', 'still', 'off', 'by', 'three', 'mine', 'indeed', 'bill', 'whenever', 'both', 'either', 'same', 'become', 'her', 'who', 'back', 'moreover', 'least', 'serious', 'due', 'cry', 'down', 'when', 'yourselves', 'nevertheless', 'him', 'i', 'last', 'less', 'everywhere', 'whereafter', 'these', 'neither', 'via', 'seems', 'ever', 'anywhere', 'alone', 'everything', 'which', 'co', 'twenty', 'eg', 'whose', 'only', 'along', 'beforehand', 'thick', 'again', 'we', 'has', 'former', 'at', 'are', 'upon', 'even', 'herein', 'too', 'nowhere', 'therein', 'found', 'ourselves', 'after', 'anyone', 'yourself', 'can', 'becomes', 'per', 'throughout', 'afterwards', 'sincere', 'also', 'with', 'could', 'front', 'detail', 'me', 'namely', 'every', 'system', 'up', 'eleven', 'two', 'third', 'put', 'sixty', 'amount', 'mill', 'everyone', 'myself', 'whatever', 'name', 'been', 'not', 'none', 'part', 'besides', 'no', 'thereupon', 'might', 'nor', 'must', 'towards', 'so', 'else', 'call', 'someone', 'show', 'this', 'one', 'now', 'its', 'cannot', 'his', 'top', 'go', 'perhaps', 'get'})\n"
     ]
    }
   ],
   "source": [
    "# list of scikit learn stop words\n",
    "from sklearn.feature_extraction import _stop_words\n",
    "print(_stop_words.ENGLISH_STOP_WORDS)"
   ]
  },
  {
   "cell_type": "markdown",
   "metadata": {},
   "source": [
    "An **n-gram** is a contiguous sequence of n words from a given sample of text\n",
    "- **ngram_range**: (min_n, max_n), default=(1, 1)\n",
    "    - The lower and upper boundary of the range of n-values for different n-grams to be extracted.\n",
    "    - All values of n such that min_n <= n <= max_n will be used."
   ]
  },
  {
   "cell_type": "code",
   "execution_count": 14,
   "metadata": {},
   "outputs": [
    {
     "data": {
      "text/plain": [
       "['cab',\n",
       " 'call',\n",
       " 'call me',\n",
       " 'call me cab',\n",
       " 'call me please',\n",
       " 'call you',\n",
       " 'call you tonight',\n",
       " 'called',\n",
       " 'called the',\n",
       " 'called the police',\n",
       " 'he',\n",
       " 'he called',\n",
       " 'he called the',\n",
       " 'me',\n",
       " 'me cab',\n",
       " 'me please',\n",
       " 'please',\n",
       " 'please call',\n",
       " 'please call me',\n",
       " 'police',\n",
       " 'the',\n",
       " 'the police',\n",
       " 'tonight',\n",
       " 'you',\n",
       " 'you tonight']"
      ]
     },
     "execution_count": 14,
     "metadata": {},
     "output_type": "execute_result"
    }
   ],
   "source": [
    "# include 1-grams, 2-grams and 3-grams\n",
    "vect = CountVectorizer(ngram_range=(1, 3))\n",
    "vect.fit(X_train)\n",
    "vect.get_feature_names()"
   ]
  },
  {
   "cell_type": "markdown",
   "metadata": {},
   "source": [
    "- **max_df**: decimal number in range [0.0, 1.0] or integer; default=1.0\n",
    "    - When building the vocabulary, ignore terms that have a document frequency strictly higher than the given threshold (corpus-specific stop words).\n",
    "    - If decimal number, the parameter represents a proportion of documents.\n",
    "    - If integer, the parameter represents an absolute count."
   ]
  },
  {
   "cell_type": "code",
   "execution_count": 15,
   "metadata": {},
   "outputs": [
    {
     "data": {
      "text/plain": [
       "['cab', 'called', 'he', 'me', 'please', 'police', 'the', 'tonight', 'you']"
      ]
     },
     "execution_count": 15,
     "metadata": {},
     "output_type": "execute_result"
    }
   ],
   "source": [
    "# ignore terms that appear in more than 50% of the documents\n",
    "vect = CountVectorizer(max_df=0.5)\n",
    "vect.fit(X_train)\n",
    "vect.get_feature_names()"
   ]
  },
  {
   "cell_type": "markdown",
   "metadata": {},
   "source": [
    "- **min_df** : decilmal number in range [0.0, 1.0] or integer; default=1\n",
    "    - When building the vocabulary, ignore terms that have a document frequency strictly lower than the given threshold. (This value is also called \"cut-off\" in the literature.)\n",
    "    - If decimal number, the parameter represents a proportion of documents.\n",
    "    - If integer, the parameter represents an absolute count."
   ]
  },
  {
   "cell_type": "code",
   "execution_count": 16,
   "metadata": {
    "scrolled": true
   },
   "outputs": [
    {
     "data": {
      "text/plain": [
       "['call', 'me']"
      ]
     },
     "execution_count": 16,
     "metadata": {},
     "output_type": "execute_result"
    }
   ],
   "source": [
    "# only keep terms that appear in at least 2 documents\n",
    "vect = CountVectorizer(min_df=2)\n",
    "vect.fit(X_train)\n",
    "vect.get_feature_names()"
   ]
  }
 ],
 "metadata": {
  "kernelspec": {
   "display_name": "Python 3 (ipykernel)",
   "language": "python",
   "name": "python3"
  },
  "language_info": {
   "codemirror_mode": {
    "name": "ipython",
    "version": 3
   },
   "file_extension": ".py",
   "mimetype": "text/x-python",
   "name": "python",
   "nbconvert_exporter": "python",
   "pygments_lexer": "ipython3",
   "version": "3.9.12"
  }
 },
 "nbformat": 4,
 "nbformat_minor": 4
}
